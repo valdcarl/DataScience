{
 "cells": [
  {
   "cell_type": "markdown",
   "metadata": {},
   "source": [
    "<img src=\"Branded_Logo_CUDenver.PNG\" width=\"150\">\n",
    "\n",
    "## <center>CSCI 4580/5580 - Data Science – Spring 2022</center>\n",
    "<center>Lab 9: Unsupervised Learning</center><center><font color='red'>Deadline: May 10, 2022 - 11:59 PM</font></center><center>Total Points: 100</center>"
   ]
  },
  {
   "cell_type": "markdown",
   "metadata": {},
   "source": [
    "## Instructions\n",
    "- Please note that this assignment must be done individually. By submitting this assignment, you certify that this is your own work, your code will be checked against other submissions and resources using automatic tools. Everyone should be getting a hands on experience in this course. You are free to discuss course material with fellow students, and we encourage you to use Internet resources to aid your understanding, but the work you turn in, including all code and answers, must be your own work."
   ]
  },
  {
   "cell_type": "markdown",
   "metadata": {},
   "source": [
    "## Deliverables\n",
    "You need to submit a single .ipynb file on Canvas, named your-lastname_your-first-name.ipynb. For example, if your name is John Smith, you should name the file smith_john.ipynb.\n",
    "- Please do not include extra files such as the input datasets in your submission.\n",
    "- Answer Questions 1 - 15 in the designated cells. Please do not add or remove any cells. \n",
    "- Please download your submission file after submission and make sure it is not corrupted. Use the 'Run All' option from the 'Cell' menu to ensure all cells run without any issues. We will not be responsible for corrupted submissions and will not take a resubmission after the deadline."
   ]
  },
  {
   "cell_type": "markdown",
   "metadata": {},
   "source": [
    "## Need Help?\n",
    "If you need help with this lab, please email me at sundous.hussein@ucdenver.edu or come to my office hours. We also encourage you to ask your questions on the designated channel for the assignment on Microsoft Teams. This way, you may receive assistance from your classmates that might’ve ran through the same issues."
   ]
  },
  {
   "cell_type": "markdown",
   "metadata": {},
   "source": [
    "### Before you Begin:\n",
    "As with Lab 8, this lab will require using the `tensorflow` deep learning library. In the previous lab, you created a virtual environment called `tf` that contained tensorflow and some dependencies.\n",
    "\n",
    "For this lab, we will also need some new dependencies. Follow the steps below to install the new dependencies to your `tf` conda environment.\n",
    "\n",
    "First, activate your `tf` environment using `conda activate tf`.\n",
    "<img src=\"imgs/conda_activate.png\">\n",
    "\n",
    "This lab requires two new dependencies: \n",
    "* `seaborn` - A plotting library built on `matplotlib`.\n",
    "* `scikit-learn` - The scikit-learn packages. We have used this package before, but not from the `tf` environment.\n",
    "\n",
    "You can install both dependencies with a single line of code:\n",
    "<img src=\"imgs/install_packages.png\">\n",
    "\n",
    "Finally, run `jupyter notebook` or `jupyter lab` to proceed with the assignment."
   ]
  },
  {
   "cell_type": "markdown",
   "metadata": {},
   "source": [
    "Let's Get Started!\n",
    "===\n",
    "\n",
    "## Overview\n",
    "Unsupervised learning is the process of learning about the structure and relationships between samples in a dataset without the use of any ground truth labels. Unlike supervised learning models which require knowledge of the class structure of the data, unsupervised learning models are capable of learning directly from the data itself, without any class labels.\n",
    "\n",
    "One of the most common methods for unsupervised learning is called \"clustering\". Clustering is the process of parititoning a dataset into groups. Samples within each group or \"cluster\" are similar to each other in some respect. In a typical \"hard\" clustering, each sample belongs to a single cluster (i.e. Samples can not belong to more than one cluster). However, there are \"soft\" clustering algorithms which can allow for samples to belong to multiple clusters at once."
   ]
  },
  {
   "cell_type": "markdown",
   "metadata": {},
   "source": [
    "## Application\n",
    "In Parts 1 and 2 of this lab, we will apply two well-known clustering algorithms to cluster a dataset containing different types of cars. For each car, the dataset records different measurements such as:\n",
    "* MPG (Miles per-gallon)\n",
    "* Displacemenet\n",
    "* Horsepower\n",
    "* Weight\n",
    "* Acceleration\n",
    "\n",
    "In particular, we will apply the following two *unsupervised* clustering algorithms to this dataset:\n",
    "* K-Means\n",
    "* Agglomerative Clustering\n",
    "\n",
    "and evaluate how well these algorithms are capable of detecting the underlying class structure in the data."
   ]
  },
  {
   "cell_type": "markdown",
   "metadata": {},
   "source": [
    "### Files\n",
    "\n",
    "Data files for this assignment are provided in the `Data` folder inside the ZIP archive.\n",
    "\n",
    "`Data/` includes the following files:\n",
    "\n",
    "* **auto-mpg.data-original**, Data for the \"Auto MPG\" dataset.\n",
    "* **train.fmat.txt**, Data from the MNIST digit dataset.\n",
    "* **ictrain.imat.txt**, Labels for the MNIST digit dataset.\n"
   ]
  },
  {
   "cell_type": "code",
   "execution_count": 1,
   "metadata": {},
   "outputs": [],
   "source": [
    "import pandas as pd\n",
    "import numpy as np\n",
    "from matplotlib import pyplot as plt\n",
    "from sklearn.preprocessing import StandardScaler"
   ]
  },
  {
   "cell_type": "markdown",
   "metadata": {},
   "source": [
    "## Q1 [10 points]\n",
    "Load the file `auto-mpg.data` into a Pandas DataFrame called `data`.\n",
    "\n",
    "This dataset does have a few quirks:\n",
    "\n",
    "First, the dataset is whitespace delimited, you can use `pd.read_csv`'s `delim_whitespace` argument to handle this.\n",
    "\n",
    "Second, the missing values are encoded with a question mark `?`. To handle this, you can use the `na_values` argument from `pd.read_csv`. \n",
    "\n",
    "**NOTE:** Refer [here](https://pandas.pydata.org/pandas-docs/stable/reference/api/pandas.read_csv.html) for the full documentation of `pd.read_csv`."
   ]
  },
  {
   "cell_type": "code",
   "execution_count": 2,
   "metadata": {},
   "outputs": [
    {
     "data": {
      "text/html": [
       "<div>\n",
       "<style scoped>\n",
       "    .dataframe tbody tr th:only-of-type {\n",
       "        vertical-align: middle;\n",
       "    }\n",
       "\n",
       "    .dataframe tbody tr th {\n",
       "        vertical-align: top;\n",
       "    }\n",
       "\n",
       "    .dataframe thead th {\n",
       "        text-align: right;\n",
       "    }\n",
       "</style>\n",
       "<table border=\"1\" class=\"dataframe\">\n",
       "  <thead>\n",
       "    <tr style=\"text-align: right;\">\n",
       "      <th></th>\n",
       "      <th>mpg</th>\n",
       "      <th>cylinders</th>\n",
       "      <th>displacement</th>\n",
       "      <th>horsepower</th>\n",
       "      <th>weight</th>\n",
       "      <th>acceleration</th>\n",
       "      <th>model year</th>\n",
       "      <th>origin</th>\n",
       "      <th>car name</th>\n",
       "    </tr>\n",
       "  </thead>\n",
       "  <tbody>\n",
       "    <tr>\n",
       "      <th>0</th>\n",
       "      <td>18.0</td>\n",
       "      <td>8</td>\n",
       "      <td>307.0</td>\n",
       "      <td>130.0</td>\n",
       "      <td>3504.0</td>\n",
       "      <td>12.0</td>\n",
       "      <td>70</td>\n",
       "      <td>1</td>\n",
       "      <td>chevrolet chevelle malibu</td>\n",
       "    </tr>\n",
       "    <tr>\n",
       "      <th>1</th>\n",
       "      <td>15.0</td>\n",
       "      <td>8</td>\n",
       "      <td>350.0</td>\n",
       "      <td>165.0</td>\n",
       "      <td>3693.0</td>\n",
       "      <td>11.5</td>\n",
       "      <td>70</td>\n",
       "      <td>1</td>\n",
       "      <td>buick skylark 320</td>\n",
       "    </tr>\n",
       "    <tr>\n",
       "      <th>2</th>\n",
       "      <td>18.0</td>\n",
       "      <td>8</td>\n",
       "      <td>318.0</td>\n",
       "      <td>150.0</td>\n",
       "      <td>3436.0</td>\n",
       "      <td>11.0</td>\n",
       "      <td>70</td>\n",
       "      <td>1</td>\n",
       "      <td>plymouth satellite</td>\n",
       "    </tr>\n",
       "    <tr>\n",
       "      <th>3</th>\n",
       "      <td>16.0</td>\n",
       "      <td>8</td>\n",
       "      <td>304.0</td>\n",
       "      <td>150.0</td>\n",
       "      <td>3433.0</td>\n",
       "      <td>12.0</td>\n",
       "      <td>70</td>\n",
       "      <td>1</td>\n",
       "      <td>amc rebel sst</td>\n",
       "    </tr>\n",
       "    <tr>\n",
       "      <th>4</th>\n",
       "      <td>17.0</td>\n",
       "      <td>8</td>\n",
       "      <td>302.0</td>\n",
       "      <td>140.0</td>\n",
       "      <td>3449.0</td>\n",
       "      <td>10.5</td>\n",
       "      <td>70</td>\n",
       "      <td>1</td>\n",
       "      <td>ford torino</td>\n",
       "    </tr>\n",
       "    <tr>\n",
       "      <th>...</th>\n",
       "      <td>...</td>\n",
       "      <td>...</td>\n",
       "      <td>...</td>\n",
       "      <td>...</td>\n",
       "      <td>...</td>\n",
       "      <td>...</td>\n",
       "      <td>...</td>\n",
       "      <td>...</td>\n",
       "      <td>...</td>\n",
       "    </tr>\n",
       "    <tr>\n",
       "      <th>393</th>\n",
       "      <td>27.0</td>\n",
       "      <td>4</td>\n",
       "      <td>140.0</td>\n",
       "      <td>86.0</td>\n",
       "      <td>2790.0</td>\n",
       "      <td>15.6</td>\n",
       "      <td>82</td>\n",
       "      <td>1</td>\n",
       "      <td>ford mustang gl</td>\n",
       "    </tr>\n",
       "    <tr>\n",
       "      <th>394</th>\n",
       "      <td>44.0</td>\n",
       "      <td>4</td>\n",
       "      <td>97.0</td>\n",
       "      <td>52.0</td>\n",
       "      <td>2130.0</td>\n",
       "      <td>24.6</td>\n",
       "      <td>82</td>\n",
       "      <td>2</td>\n",
       "      <td>vw pickup</td>\n",
       "    </tr>\n",
       "    <tr>\n",
       "      <th>395</th>\n",
       "      <td>32.0</td>\n",
       "      <td>4</td>\n",
       "      <td>135.0</td>\n",
       "      <td>84.0</td>\n",
       "      <td>2295.0</td>\n",
       "      <td>11.6</td>\n",
       "      <td>82</td>\n",
       "      <td>1</td>\n",
       "      <td>dodge rampage</td>\n",
       "    </tr>\n",
       "    <tr>\n",
       "      <th>396</th>\n",
       "      <td>28.0</td>\n",
       "      <td>4</td>\n",
       "      <td>120.0</td>\n",
       "      <td>79.0</td>\n",
       "      <td>2625.0</td>\n",
       "      <td>18.6</td>\n",
       "      <td>82</td>\n",
       "      <td>1</td>\n",
       "      <td>ford ranger</td>\n",
       "    </tr>\n",
       "    <tr>\n",
       "      <th>397</th>\n",
       "      <td>31.0</td>\n",
       "      <td>4</td>\n",
       "      <td>119.0</td>\n",
       "      <td>82.0</td>\n",
       "      <td>2720.0</td>\n",
       "      <td>19.4</td>\n",
       "      <td>82</td>\n",
       "      <td>1</td>\n",
       "      <td>chevy s-10</td>\n",
       "    </tr>\n",
       "  </tbody>\n",
       "</table>\n",
       "<p>398 rows × 9 columns</p>\n",
       "</div>"
      ],
      "text/plain": [
       "      mpg  cylinders  displacement  horsepower  weight  acceleration  \\\n",
       "0    18.0          8         307.0       130.0  3504.0          12.0   \n",
       "1    15.0          8         350.0       165.0  3693.0          11.5   \n",
       "2    18.0          8         318.0       150.0  3436.0          11.0   \n",
       "3    16.0          8         304.0       150.0  3433.0          12.0   \n",
       "4    17.0          8         302.0       140.0  3449.0          10.5   \n",
       "..    ...        ...           ...         ...     ...           ...   \n",
       "393  27.0          4         140.0        86.0  2790.0          15.6   \n",
       "394  44.0          4          97.0        52.0  2130.0          24.6   \n",
       "395  32.0          4         135.0        84.0  2295.0          11.6   \n",
       "396  28.0          4         120.0        79.0  2625.0          18.6   \n",
       "397  31.0          4         119.0        82.0  2720.0          19.4   \n",
       "\n",
       "     model year  origin                   car name  \n",
       "0            70       1  chevrolet chevelle malibu  \n",
       "1            70       1          buick skylark 320  \n",
       "2            70       1         plymouth satellite  \n",
       "3            70       1              amc rebel sst  \n",
       "4            70       1                ford torino  \n",
       "..          ...     ...                        ...  \n",
       "393          82       1            ford mustang gl  \n",
       "394          82       2                  vw pickup  \n",
       "395          82       1              dodge rampage  \n",
       "396          82       1                ford ranger  \n",
       "397          82       1                 chevy s-10  \n",
       "\n",
       "[398 rows x 9 columns]"
      ]
     },
     "execution_count": 2,
     "metadata": {},
     "output_type": "execute_result"
    }
   ],
   "source": [
    "columns = [\"mpg\",\"cylinders\",\"displacement\",\"horsepower\",\"weight\",\"acceleration\",\"model year\",\"origin\",\"car name\"]\n",
    "# load auto-mpg.data into this var data\n",
    "data = pd.read_csv(\"Data/auto-mpg.data\", names=columns, delim_whitespace=True, na_values=\"?\")\n",
    "data"
   ]
  },
  {
   "cell_type": "markdown",
   "metadata": {},
   "source": [
    "## Q2 [5 points]\n",
    "\n",
    "For our experiments, we will only use a subset of this data.\n",
    "\n",
    "Subset `data` to use only the following 3 columns:\n",
    "* `horsepower`\n",
    "* `weight` \n",
    "* `acceleration`"
   ]
  },
  {
   "cell_type": "code",
   "execution_count": 3,
   "metadata": {},
   "outputs": [
    {
     "data": {
      "text/html": [
       "<div>\n",
       "<style scoped>\n",
       "    .dataframe tbody tr th:only-of-type {\n",
       "        vertical-align: middle;\n",
       "    }\n",
       "\n",
       "    .dataframe tbody tr th {\n",
       "        vertical-align: top;\n",
       "    }\n",
       "\n",
       "    .dataframe thead th {\n",
       "        text-align: right;\n",
       "    }\n",
       "</style>\n",
       "<table border=\"1\" class=\"dataframe\">\n",
       "  <thead>\n",
       "    <tr style=\"text-align: right;\">\n",
       "      <th></th>\n",
       "      <th>horsepower</th>\n",
       "      <th>weight</th>\n",
       "      <th>acceleration</th>\n",
       "    </tr>\n",
       "  </thead>\n",
       "  <tbody>\n",
       "    <tr>\n",
       "      <th>0</th>\n",
       "      <td>130.0</td>\n",
       "      <td>3504.0</td>\n",
       "      <td>12.0</td>\n",
       "    </tr>\n",
       "    <tr>\n",
       "      <th>1</th>\n",
       "      <td>165.0</td>\n",
       "      <td>3693.0</td>\n",
       "      <td>11.5</td>\n",
       "    </tr>\n",
       "    <tr>\n",
       "      <th>2</th>\n",
       "      <td>150.0</td>\n",
       "      <td>3436.0</td>\n",
       "      <td>11.0</td>\n",
       "    </tr>\n",
       "    <tr>\n",
       "      <th>3</th>\n",
       "      <td>150.0</td>\n",
       "      <td>3433.0</td>\n",
       "      <td>12.0</td>\n",
       "    </tr>\n",
       "    <tr>\n",
       "      <th>4</th>\n",
       "      <td>140.0</td>\n",
       "      <td>3449.0</td>\n",
       "      <td>10.5</td>\n",
       "    </tr>\n",
       "    <tr>\n",
       "      <th>...</th>\n",
       "      <td>...</td>\n",
       "      <td>...</td>\n",
       "      <td>...</td>\n",
       "    </tr>\n",
       "    <tr>\n",
       "      <th>393</th>\n",
       "      <td>86.0</td>\n",
       "      <td>2790.0</td>\n",
       "      <td>15.6</td>\n",
       "    </tr>\n",
       "    <tr>\n",
       "      <th>394</th>\n",
       "      <td>52.0</td>\n",
       "      <td>2130.0</td>\n",
       "      <td>24.6</td>\n",
       "    </tr>\n",
       "    <tr>\n",
       "      <th>395</th>\n",
       "      <td>84.0</td>\n",
       "      <td>2295.0</td>\n",
       "      <td>11.6</td>\n",
       "    </tr>\n",
       "    <tr>\n",
       "      <th>396</th>\n",
       "      <td>79.0</td>\n",
       "      <td>2625.0</td>\n",
       "      <td>18.6</td>\n",
       "    </tr>\n",
       "    <tr>\n",
       "      <th>397</th>\n",
       "      <td>82.0</td>\n",
       "      <td>2720.0</td>\n",
       "      <td>19.4</td>\n",
       "    </tr>\n",
       "  </tbody>\n",
       "</table>\n",
       "<p>398 rows × 3 columns</p>\n",
       "</div>"
      ],
      "text/plain": [
       "     horsepower  weight  acceleration\n",
       "0         130.0  3504.0          12.0\n",
       "1         165.0  3693.0          11.5\n",
       "2         150.0  3436.0          11.0\n",
       "3         150.0  3433.0          12.0\n",
       "4         140.0  3449.0          10.5\n",
       "..          ...     ...           ...\n",
       "393        86.0  2790.0          15.6\n",
       "394        52.0  2130.0          24.6\n",
       "395        84.0  2295.0          11.6\n",
       "396        79.0  2625.0          18.6\n",
       "397        82.0  2720.0          19.4\n",
       "\n",
       "[398 rows x 3 columns]"
      ]
     },
     "execution_count": 3,
     "metadata": {},
     "output_type": "execute_result"
    }
   ],
   "source": [
    "# pandas.pydata.org details how to get a subset of a dataframe by using brackets\n",
    "# with the specified column names\n",
    "data = data[[\"horsepower\",\"weight\",\"acceleration\"]]\n",
    "data"
   ]
  },
  {
   "cell_type": "markdown",
   "metadata": {},
   "source": [
    "## Q3 [5 points]\n",
    "\n",
    "We will not be able to use samples that have missing values for one or more of the columns.\n",
    "\n",
    "Drop **any** rows in `data` which have **one or more** missing values.\n",
    "\n",
    "**HINT:** [Documentation for DataFrame.dropna](https://pandas.pydata.org/pandas-docs/stable/reference/api/pandas.DataFrame.dropna.html)"
   ]
  },
  {
   "cell_type": "code",
   "execution_count": 4,
   "metadata": {},
   "outputs": [],
   "source": [
    "# axis = 0 drops rows with missing values, whereas axis=1 drops columns with missing values\n",
    "data = data.dropna(axis=0)"
   ]
  },
  {
   "cell_type": "markdown",
   "metadata": {},
   "source": [
    "## Q4 [5 points]\n",
    "Since these variables are on different scales (`weight` values are much larger than values for `horsepower` or `acceleration`), we need to normalize each column.\n",
    "\n",
    "Use the `StandardScaler` object from `scikit-learn` to normalize each column of `data`.\n",
    "\n",
    "[StandardScaler documentation](https://scikit-learn.org/stable/modules/generated/sklearn.preprocessing.StandardScaler.html)\n",
    "\n",
    "**NOTE:** When you are finished, make sure that `data` is still a DataFrame! "
   ]
  },
  {
   "cell_type": "code",
   "execution_count": 5,
   "metadata": {},
   "outputs": [
    {
     "data": {
      "text/html": [
       "<div>\n",
       "<style scoped>\n",
       "    .dataframe tbody tr th:only-of-type {\n",
       "        vertical-align: middle;\n",
       "    }\n",
       "\n",
       "    .dataframe tbody tr th {\n",
       "        vertical-align: top;\n",
       "    }\n",
       "\n",
       "    .dataframe thead th {\n",
       "        text-align: right;\n",
       "    }\n",
       "</style>\n",
       "<table border=\"1\" class=\"dataframe\">\n",
       "  <thead>\n",
       "    <tr style=\"text-align: right;\">\n",
       "      <th></th>\n",
       "      <th>horsepower</th>\n",
       "      <th>weight</th>\n",
       "      <th>acceleration</th>\n",
       "    </tr>\n",
       "  </thead>\n",
       "  <tbody>\n",
       "    <tr>\n",
       "      <th>0</th>\n",
       "      <td>0.664133</td>\n",
       "      <td>0.620540</td>\n",
       "      <td>-1.285258</td>\n",
       "    </tr>\n",
       "    <tr>\n",
       "      <th>1</th>\n",
       "      <td>1.574594</td>\n",
       "      <td>0.843334</td>\n",
       "      <td>-1.466724</td>\n",
       "    </tr>\n",
       "    <tr>\n",
       "      <th>2</th>\n",
       "      <td>1.184397</td>\n",
       "      <td>0.540382</td>\n",
       "      <td>-1.648189</td>\n",
       "    </tr>\n",
       "    <tr>\n",
       "      <th>3</th>\n",
       "      <td>1.184397</td>\n",
       "      <td>0.536845</td>\n",
       "      <td>-1.285258</td>\n",
       "    </tr>\n",
       "    <tr>\n",
       "      <th>4</th>\n",
       "      <td>0.924265</td>\n",
       "      <td>0.555706</td>\n",
       "      <td>-1.829655</td>\n",
       "    </tr>\n",
       "    <tr>\n",
       "      <th>...</th>\n",
       "      <td>...</td>\n",
       "      <td>...</td>\n",
       "      <td>...</td>\n",
       "    </tr>\n",
       "    <tr>\n",
       "      <th>387</th>\n",
       "      <td>-0.480448</td>\n",
       "      <td>-0.221125</td>\n",
       "      <td>0.021294</td>\n",
       "    </tr>\n",
       "    <tr>\n",
       "      <th>388</th>\n",
       "      <td>-1.364896</td>\n",
       "      <td>-0.999134</td>\n",
       "      <td>3.287676</td>\n",
       "    </tr>\n",
       "    <tr>\n",
       "      <th>389</th>\n",
       "      <td>-0.532474</td>\n",
       "      <td>-0.804632</td>\n",
       "      <td>-1.430430</td>\n",
       "    </tr>\n",
       "    <tr>\n",
       "      <th>390</th>\n",
       "      <td>-0.662540</td>\n",
       "      <td>-0.415627</td>\n",
       "      <td>1.110088</td>\n",
       "    </tr>\n",
       "    <tr>\n",
       "      <th>391</th>\n",
       "      <td>-0.584501</td>\n",
       "      <td>-0.303641</td>\n",
       "      <td>1.400433</td>\n",
       "    </tr>\n",
       "  </tbody>\n",
       "</table>\n",
       "<p>392 rows × 3 columns</p>\n",
       "</div>"
      ],
      "text/plain": [
       "     horsepower    weight  acceleration\n",
       "0      0.664133  0.620540     -1.285258\n",
       "1      1.574594  0.843334     -1.466724\n",
       "2      1.184397  0.540382     -1.648189\n",
       "3      1.184397  0.536845     -1.285258\n",
       "4      0.924265  0.555706     -1.829655\n",
       "..          ...       ...           ...\n",
       "387   -0.480448 -0.221125      0.021294\n",
       "388   -1.364896 -0.999134      3.287676\n",
       "389   -0.532474 -0.804632     -1.430430\n",
       "390   -0.662540 -0.415627      1.110088\n",
       "391   -0.584501 -0.303641      1.400433\n",
       "\n",
       "[392 rows x 3 columns]"
      ]
     },
     "execution_count": 5,
     "metadata": {},
     "output_type": "execute_result"
    }
   ],
   "source": [
    "scaler = StandardScaler()\n",
    "data = scaler.fit_transform(data)\n",
    "cols = [\"horsepower\", \"weight\", \"acceleration\"]\n",
    "data = pd.DataFrame(data, columns=cols)\n",
    "data"
   ]
  },
  {
   "cell_type": "markdown",
   "metadata": {},
   "source": [
    "# Part 1: $k$-means Clustering\n",
    "\n",
    "The $k$-means algorithm is a popular and relatively simple algorithm for clustering. To initialize the algorithm, the user must first specify $k$ which represents the number of clusters to be generated. Once $k$ is chosen, the algorithm will intialize $k$ centroids, which will represent the centers of the $k$ clusters. \n",
    "\n",
    "### $k$-means algorithm:\n",
    "1. For each sample, calculate the distance between that sample and **each** of the $k$ centroids.\n",
    "2. Assign each of the samples the \"label\" of the *nearest* centroid.\n",
    "3. Update each of the $k$ centroids by setting it equal to the the **mean** of the samples which have that centroid's label. \n",
    "\n",
    "This process is performed iteratively until some stopping criteria is met. \n",
    "\n",
    "The below figure shows an example of a $k$-means clustering for $k=3$.\n",
    "\n",
    "![k-means clustering](imgs/k-means.gif)\n",
    "*Image Credit: [Wikipedia Commons](https://commons.wikimedia.org/wiki/File:K-means_convergence.gif)*\n",
    "\n",
    "## Determining the Best $k$:\n",
    "The $k$-means algorithm requires that the user choose $k$, the number of cluster centroids. However, this causes a chicken-and-egg problem! If we are trying to perform *unsupervised* learning we **don't know** how many clusters we should use in the first place! We can try clustering with multiple values for $k$, but we need a way to pick the best $k$ out of the candidates that we try.\n",
    "\n",
    "In order to find the $k$ that most agrees with the data, we will use a metric known as Silhouette Score.\n",
    "\n",
    "## Silhouette Score\n",
    "Silhouette Score is a metric that may be used to measure how well a set of cluster labels \"agree\" with the distribution of the data.\n",
    "\n",
    "Silhouette is defined by three equations:\n",
    "\n",
    "$$ a(i) = \\frac{1}{|C_i| - 1}\\sum_{j \\in C_i,i\\neq j}{d(i,j)} $$\n",
    "\n",
    "$$ b(i) = \\min_{k \\neq i} \\frac{1}{|C_k|} \\sum_{j \\in C_k}{d(i,j)}$$\n",
    "\n",
    "$$ s(i) = \\frac{b(i) - a(i)}{\\max{\\{a(i),b(i)\\}}} $$\n",
    "\n",
    "* The first equation $a(i)$ calculates the average distance from sample $i$ to all other points within the same cluster as $i$.\n",
    "* The second equation $b(i)$ calculates the average distance from sample $i$ to the points in the second-closest cluster to $i$. \n",
    "* The third equation $s(i)$ combines $a(i)$ and $b(i)$ into a single metric.\n",
    "\n",
    "Intuitively, $a(i)$ measures how close sample $i$ is to the other points in the same cluster. Low values for $i$ indicate that the $i$ is very close to the other points in the cluster, indicating that the cluster is dense.\n",
    "\n",
    "$b(i)$ measures the distance between $i$'s \"home\" cluster and the second-closest cluster to $i$. If this value is large, than $i$ is well-clustered, since it is much closer to points within its own cluster than to points in the second closest cluster. \n",
    "\n",
    "$s(i)$ arranges $a(i)$ and $b(i)$ into a normalized term in the interval $[-1,1]$. A value of $s(i) \\approx 1$, indicates a \"good\" clustering for $i$, since $s(i)$ will be close to one when:\n",
    "* $a(i)$ is small ($i$ is close to its neighbor points)\n",
    "\n",
    "and/or\n",
    "* $b(i)$ is large ($i$ is well-separated from the neighboring cluster). \n",
    "\n",
    "Similarly, a value of $s(i) \\approx -1$ indicates the *worst possible clustering* for $i$, since either:\n",
    "* $a(i)$ is very big ($i$ is not close to its neighbors)\n",
    "\n",
    "and/or\n",
    "* $b(i)$ is very small ($i$ is very close to a neighboring cluster).\n",
    "\n",
    "The Silhouette coefficient $s(i)$ shown above is calculated once for each sample being clustered. Taking the average of $s(i)$ for all clustered samples will give an overall measure of cluster \"agreement\" with the data. \n",
    "\n",
    "In the next section, we will perform multiple $k$-means clustering operations, and evaluate each one using the Silhouette coefficient."
   ]
  },
  {
   "cell_type": "code",
   "execution_count": 6,
   "metadata": {},
   "outputs": [],
   "source": [
    "from sklearn.cluster import KMeans\n",
    "from sklearn.metrics import silhouette_score\n",
    "import seaborn as sns"
   ]
  },
  {
   "cell_type": "markdown",
   "metadata": {},
   "source": [
    "We can create a $k$-means model using `KMeans` from `scikit-learn`."
   ]
  },
  {
   "cell_type": "code",
   "execution_count": 7,
   "metadata": {},
   "outputs": [],
   "source": [
    "km_obj = KMeans(n_clusters=5)"
   ]
  },
  {
   "cell_type": "markdown",
   "metadata": {},
   "source": [
    "Using the `km_obj` model we created above, we can fit the model and then retrieve the cluster labeling for each sample using the `fit_predict` method of `km_obj`."
   ]
  },
  {
   "cell_type": "code",
   "execution_count": 8,
   "metadata": {},
   "outputs": [
    {
     "data": {
      "text/plain": [
       "(392,)"
      ]
     },
     "execution_count": 8,
     "metadata": {},
     "output_type": "execute_result"
    }
   ],
   "source": [
    "labels = km_obj.fit_predict(data)\n",
    "labels.shape"
   ]
  },
  {
   "cell_type": "markdown",
   "metadata": {},
   "source": [
    "## Q5 [15 points]\n",
    "\n",
    "For $k = [2,15]$, fit a $k$-means model with $k$ centroids.\n",
    "\n",
    "Record the labels provided by $k$-means in the dictionary `labels_k`, such that `labels_k[i]` holds the array of labels returned from the $k$-means fit with $i$ centroids.\n",
    "\n",
    "Your `labels_k` dictionary should look something like this:\n",
    "\n",
    "```\n",
    "{2: array([...]),\n",
    " 3: array([...]),\n",
    " ...\n",
    " 15: array([...])}\n",
    "```\n",
    "\n",
    "Where each `array([...])` contains a set of $k$-means labels."
   ]
  },
  {
   "cell_type": "code",
   "execution_count": 9,
   "metadata": {},
   "outputs": [
    {
     "data": {
      "text/plain": [
       "{2: array([0, 0, 0, 0, 0, 0, 0, 0, 0, 0, 0, 0, 0, 0, 1, 1, 1, 1, 1, 1, 1, 1,\n",
       "        1, 1, 1, 0, 0, 0, 0, 1, 1, 1, 1, 1, 1, 1, 1, 0, 0, 0, 0, 0, 0, 0,\n",
       "        1, 1, 1, 1, 1, 1, 1, 1, 1, 1, 1, 1, 1, 1, 1, 1, 1, 0, 0, 0, 0, 0,\n",
       "        0, 0, 0, 0, 1, 0, 0, 0, 0, 1, 1, 1, 1, 1, 1, 1, 1, 1, 0, 0, 0, 0,\n",
       "        0, 0, 0, 0, 0, 0, 0, 0, 1, 1, 1, 1, 1, 1, 0, 0, 0, 0, 1, 1, 1, 1,\n",
       "        1, 1, 1, 1, 0, 0, 1, 1, 1, 1, 0, 1, 1, 0, 1, 1, 1, 1, 1, 1, 1, 1,\n",
       "        1, 1, 0, 0, 0, 0, 0, 1, 1, 1, 1, 1, 1, 1, 1, 1, 1, 1, 1, 1, 1, 1,\n",
       "        0, 0, 0, 0, 1, 1, 1, 1, 1, 1, 0, 1, 1, 1, 1, 1, 1, 1, 1, 1, 1, 1,\n",
       "        1, 1, 1, 1, 1, 1, 1, 1, 1, 0, 0, 0, 0, 1, 1, 1, 1, 1, 1, 1, 1, 1,\n",
       "        1, 1, 1, 1, 1, 1, 1, 1, 0, 1, 1, 1, 0, 0, 0, 0, 1, 1, 1, 1, 1, 0,\n",
       "        1, 0, 0, 1, 1, 1, 1, 0, 0, 0, 0, 1, 1, 1, 1, 1, 1, 1, 1, 1, 1, 1,\n",
       "        1, 1, 1, 1, 1, 1, 0, 0, 1, 1, 1, 1, 1, 1, 1, 1, 1, 1, 0, 0, 0, 0,\n",
       "        1, 1, 1, 1, 1, 1, 1, 1, 1, 0, 1, 0, 1, 1, 1, 1, 1, 1, 1, 0, 0, 0,\n",
       "        0, 0, 0, 0, 0, 1, 1, 1, 1, 1, 1, 1, 1, 1, 1, 1, 1, 1, 1, 1, 1, 1,\n",
       "        1, 1, 1, 1, 1, 1, 1, 1, 1, 1, 1, 1, 1, 1, 1, 1, 1, 1, 1, 1, 1, 1,\n",
       "        0, 1, 1, 1, 1, 1, 1, 1, 1, 1, 1, 1, 1, 1, 1, 1, 1, 1, 1, 1, 1, 1,\n",
       "        1, 1, 1, 1, 1, 1, 1, 1, 1, 1, 1, 1, 1, 1, 1, 1, 1, 1, 1, 1, 1, 1,\n",
       "        1, 1, 1, 1, 1, 1, 1, 1, 1, 1, 1, 1, 1, 1, 1, 1, 1, 1]),\n",
       " 3: array([0, 0, 0, 0, 0, 0, 0, 0, 0, 0, 0, 0, 0, 0, 1, 1, 1, 1, 1, 2, 2, 1,\n",
       "        2, 1, 1, 0, 0, 0, 0, 1, 1, 1, 1, 1, 1, 1, 1, 0, 0, 0, 0, 0, 0, 0,\n",
       "        1, 2, 1, 1, 1, 1, 2, 1, 2, 2, 2, 2, 1, 1, 2, 2, 1, 0, 0, 0, 0, 0,\n",
       "        0, 0, 0, 0, 1, 0, 0, 0, 0, 1, 2, 2, 2, 1, 1, 1, 1, 1, 0, 0, 0, 0,\n",
       "        0, 0, 0, 0, 0, 0, 0, 0, 1, 2, 1, 1, 1, 2, 0, 0, 0, 0, 1, 2, 2, 1,\n",
       "        1, 2, 1, 1, 0, 0, 2, 1, 1, 1, 0, 1, 1, 0, 1, 1, 1, 2, 1, 2, 1, 1,\n",
       "        2, 1, 0, 0, 0, 0, 0, 1, 1, 1, 1, 2, 1, 1, 1, 1, 1, 1, 1, 1, 2, 2,\n",
       "        0, 0, 0, 0, 2, 2, 2, 2, 1, 1, 0, 1, 1, 1, 2, 1, 1, 1, 1, 1, 1, 1,\n",
       "        1, 1, 1, 2, 1, 1, 1, 2, 1, 0, 0, 0, 0, 1, 1, 2, 2, 2, 2, 1, 2, 2,\n",
       "        2, 1, 2, 1, 1, 1, 1, 1, 0, 2, 1, 1, 0, 0, 0, 0, 2, 1, 2, 1, 1, 0,\n",
       "        2, 0, 0, 1, 1, 2, 2, 0, 0, 0, 0, 1, 1, 2, 1, 2, 1, 1, 1, 1, 1, 1,\n",
       "        2, 1, 2, 2, 1, 1, 0, 0, 2, 2, 1, 1, 1, 1, 1, 1, 2, 1, 0, 0, 0, 0,\n",
       "        1, 1, 1, 1, 1, 1, 2, 1, 1, 1, 1, 1, 1, 1, 1, 2, 2, 2, 1, 0, 0, 0,\n",
       "        0, 0, 0, 0, 0, 1, 1, 1, 1, 2, 1, 2, 2, 1, 1, 2, 1, 1, 1, 1, 1, 1,\n",
       "        2, 1, 1, 1, 2, 2, 2, 1, 1, 2, 1, 1, 2, 1, 2, 2, 2, 2, 2, 1, 2, 1,\n",
       "        0, 1, 1, 1, 1, 1, 1, 1, 1, 2, 1, 1, 2, 2, 2, 1, 1, 1, 2, 1, 1, 1,\n",
       "        1, 2, 2, 2, 1, 1, 1, 2, 1, 1, 2, 2, 2, 1, 1, 2, 1, 1, 2, 2, 1, 2,\n",
       "        1, 1, 1, 1, 1, 1, 1, 1, 1, 1, 1, 1, 2, 1, 2, 1, 2, 2]),\n",
       " 4: array([1, 1, 1, 1, 1, 1, 1, 1, 1, 1, 1, 1, 1, 1, 0, 3, 0, 0, 0, 2, 3, 0,\n",
       "        0, 0, 0, 1, 1, 1, 1, 0, 0, 0, 0, 3, 3, 3, 3, 1, 1, 1, 1, 1, 1, 1,\n",
       "        3, 2, 3, 3, 0, 0, 2, 0, 2, 2, 2, 2, 0, 0, 2, 2, 0, 1, 1, 1, 1, 1,\n",
       "        1, 1, 1, 1, 0, 1, 1, 1, 1, 3, 2, 2, 2, 0, 0, 0, 0, 0, 1, 1, 1, 1,\n",
       "        1, 1, 1, 1, 1, 1, 1, 1, 3, 3, 3, 3, 3, 2, 1, 1, 1, 1, 0, 2, 2, 0,\n",
       "        0, 2, 0, 0, 1, 1, 2, 0, 0, 3, 1, 0, 0, 1, 3, 3, 3, 2, 0, 2, 0, 3,\n",
       "        3, 3, 1, 1, 1, 1, 1, 0, 0, 0, 0, 2, 0, 0, 0, 0, 0, 0, 3, 3, 2, 2,\n",
       "        1, 1, 1, 1, 3, 3, 3, 3, 3, 3, 1, 0, 0, 3, 2, 0, 0, 0, 3, 0, 3, 0,\n",
       "        3, 3, 0, 2, 0, 0, 0, 2, 0, 1, 1, 1, 1, 3, 3, 3, 3, 2, 2, 0, 2, 3,\n",
       "        2, 3, 3, 0, 0, 0, 0, 3, 1, 2, 3, 3, 1, 1, 3, 1, 2, 0, 2, 0, 0, 1,\n",
       "        3, 1, 1, 3, 3, 3, 3, 1, 1, 1, 1, 0, 0, 2, 0, 0, 0, 0, 0, 0, 0, 0,\n",
       "        2, 0, 2, 2, 0, 3, 1, 1, 3, 3, 3, 0, 3, 3, 3, 3, 3, 3, 1, 1, 1, 1,\n",
       "        0, 0, 0, 0, 0, 3, 3, 0, 3, 3, 3, 3, 0, 0, 3, 3, 3, 3, 3, 3, 1, 1,\n",
       "        3, 1, 1, 3, 1, 0, 0, 0, 0, 2, 3, 2, 2, 0, 0, 2, 0, 0, 0, 0, 0, 0,\n",
       "        2, 0, 0, 0, 3, 2, 3, 0, 0, 2, 0, 0, 2, 0, 2, 2, 2, 2, 2, 0, 2, 0,\n",
       "        1, 0, 0, 0, 0, 0, 0, 0, 0, 0, 0, 0, 2, 2, 2, 0, 0, 0, 2, 0, 0, 0,\n",
       "        0, 2, 2, 2, 0, 3, 3, 3, 3, 3, 2, 2, 2, 0, 0, 3, 3, 0, 2, 2, 0, 2,\n",
       "        0, 0, 0, 0, 0, 0, 3, 3, 0, 3, 0, 0, 3, 0, 2, 0, 2, 2]),\n",
       " 5: array([0, 0, 0, 0, 0, 4, 4, 4, 4, 4, 4, 4, 4, 4, 2, 2, 2, 2, 2, 3, 1, 2,\n",
       "        2, 2, 2, 4, 4, 4, 0, 2, 2, 2, 2, 1, 1, 1, 1, 4, 4, 0, 0, 4, 4, 4,\n",
       "        2, 3, 1, 1, 2, 2, 3, 2, 3, 3, 3, 3, 2, 2, 3, 3, 2, 4, 4, 0, 0, 0,\n",
       "        4, 0, 0, 4, 2, 0, 0, 0, 0, 1, 3, 3, 3, 2, 2, 2, 2, 2, 4, 0, 0, 0,\n",
       "        0, 4, 0, 0, 0, 4, 4, 4, 1, 1, 1, 1, 1, 3, 0, 4, 4, 4, 2, 3, 3, 2,\n",
       "        2, 3, 2, 2, 0, 4, 3, 2, 2, 1, 0, 2, 2, 4, 1, 1, 1, 3, 2, 3, 2, 1,\n",
       "        1, 1, 0, 0, 0, 0, 0, 2, 2, 2, 2, 3, 2, 2, 2, 2, 2, 2, 1, 1, 3, 3,\n",
       "        4, 0, 0, 0, 1, 1, 1, 1, 1, 1, 0, 2, 2, 1, 3, 2, 2, 2, 2, 2, 1, 2,\n",
       "        1, 2, 2, 3, 2, 2, 2, 3, 2, 0, 0, 0, 0, 1, 1, 1, 1, 3, 3, 2, 3, 1,\n",
       "        3, 1, 1, 2, 2, 2, 2, 1, 0, 3, 1, 1, 4, 0, 0, 0, 3, 2, 3, 2, 2, 0,\n",
       "        1, 0, 0, 1, 1, 1, 1, 4, 4, 4, 0, 2, 2, 3, 2, 2, 2, 2, 2, 2, 2, 2,\n",
       "        3, 2, 3, 3, 2, 1, 0, 0, 1, 1, 1, 2, 1, 1, 1, 1, 1, 1, 0, 0, 0, 0,\n",
       "        2, 2, 2, 2, 2, 1, 1, 2, 1, 0, 1, 1, 2, 2, 1, 1, 1, 1, 1, 0, 0, 0,\n",
       "        0, 0, 0, 0, 0, 2, 2, 2, 2, 1, 1, 3, 3, 2, 2, 3, 2, 2, 2, 2, 2, 2,\n",
       "        3, 2, 2, 2, 1, 3, 1, 2, 2, 3, 2, 2, 3, 2, 3, 3, 3, 3, 3, 2, 3, 2,\n",
       "        0, 2, 2, 2, 2, 2, 2, 2, 2, 2, 2, 2, 3, 3, 3, 2, 2, 2, 3, 2, 2, 2,\n",
       "        2, 3, 3, 3, 2, 2, 1, 1, 1, 1, 3, 3, 3, 2, 2, 1, 1, 2, 3, 3, 2, 3,\n",
       "        2, 2, 2, 2, 2, 2, 1, 1, 2, 2, 2, 2, 1, 2, 3, 2, 3, 3]),\n",
       " 6: array([3, 3, 3, 3, 3, 1, 1, 1, 1, 1, 1, 1, 1, 1, 4, 4, 4, 2, 2, 5, 0, 4,\n",
       "        2, 4, 4, 1, 1, 1, 3, 2, 2, 4, 4, 4, 4, 4, 4, 1, 1, 3, 3, 1, 1, 1,\n",
       "        4, 5, 4, 4, 2, 2, 5, 2, 5, 5, 5, 5, 2, 2, 5, 5, 2, 1, 1, 3, 3, 3,\n",
       "        1, 3, 3, 1, 4, 3, 3, 3, 3, 4, 5, 0, 5, 2, 2, 4, 2, 2, 3, 3, 3, 3,\n",
       "        3, 1, 3, 3, 3, 1, 1, 1, 0, 0, 4, 0, 4, 5, 3, 1, 1, 1, 4, 5, 5, 2,\n",
       "        2, 5, 4, 2, 3, 1, 5, 2, 4, 4, 3, 4, 4, 1, 0, 4, 0, 5, 2, 5, 2, 0,\n",
       "        0, 0, 3, 3, 3, 3, 3, 2, 2, 2, 2, 5, 2, 2, 2, 4, 2, 2, 0, 0, 0, 0,\n",
       "        1, 3, 3, 3, 0, 0, 0, 0, 4, 4, 3, 2, 2, 4, 5, 4, 2, 2, 4, 2, 0, 4,\n",
       "        0, 4, 4, 2, 2, 2, 4, 2, 2, 3, 3, 3, 3, 4, 4, 0, 0, 5, 5, 2, 2, 0,\n",
       "        0, 0, 0, 2, 2, 2, 4, 4, 3, 0, 4, 0, 1, 3, 3, 3, 5, 2, 5, 2, 2, 3,\n",
       "        0, 3, 3, 0, 0, 0, 0, 1, 1, 1, 3, 2, 4, 5, 4, 2, 2, 2, 2, 4, 4, 4,\n",
       "        5, 2, 5, 5, 2, 4, 3, 3, 0, 0, 4, 4, 0, 0, 0, 0, 0, 4, 3, 3, 3, 3,\n",
       "        2, 4, 4, 2, 4, 4, 0, 4, 4, 4, 4, 3, 2, 2, 4, 0, 0, 0, 0, 3, 3, 3,\n",
       "        3, 3, 3, 3, 3, 2, 2, 2, 4, 0, 0, 5, 0, 2, 2, 5, 2, 4, 4, 4, 4, 2,\n",
       "        5, 2, 2, 4, 0, 0, 0, 2, 4, 2, 4, 2, 5, 4, 5, 5, 5, 5, 5, 2, 5, 2,\n",
       "        4, 4, 4, 2, 2, 2, 4, 4, 4, 2, 2, 2, 5, 5, 2, 2, 2, 2, 5, 2, 2, 2,\n",
       "        4, 5, 0, 0, 4, 4, 0, 0, 0, 0, 5, 5, 5, 2, 2, 0, 4, 2, 5, 2, 2, 2,\n",
       "        2, 2, 2, 2, 2, 2, 4, 0, 4, 4, 4, 4, 0, 4, 5, 4, 5, 5]),\n",
       " 7: array([3, 3, 3, 3, 3, 0, 0, 0, 0, 0, 0, 0, 0, 0, 5, 4, 4, 1, 1, 2, 4, 5,\n",
       "        1, 5, 5, 0, 0, 0, 3, 1, 1, 5, 5, 4, 4, 4, 4, 0, 0, 3, 3, 0, 0, 0,\n",
       "        5, 2, 4, 4, 5, 5, 2, 1, 2, 2, 2, 2, 1, 1, 2, 2, 1, 0, 0, 3, 3, 3,\n",
       "        0, 3, 3, 0, 5, 3, 3, 3, 3, 5, 2, 6, 2, 1, 1, 5, 1, 1, 0, 3, 3, 3,\n",
       "        3, 0, 3, 3, 3, 0, 0, 0, 4, 4, 4, 4, 4, 2, 3, 0, 0, 0, 5, 2, 2, 1,\n",
       "        5, 2, 5, 1, 3, 0, 2, 1, 5, 4, 3, 5, 5, 0, 4, 4, 4, 2, 1, 2, 1, 4,\n",
       "        6, 4, 3, 3, 3, 3, 3, 1, 1, 1, 1, 2, 1, 1, 1, 5, 1, 1, 4, 4, 6, 6,\n",
       "        0, 3, 3, 3, 6, 6, 6, 6, 4, 5, 5, 1, 4, 4, 2, 5, 1, 4, 5, 1, 4, 5,\n",
       "        4, 5, 5, 2, 1, 1, 5, 2, 1, 3, 3, 3, 3, 4, 4, 4, 4, 2, 2, 1, 2, 6,\n",
       "        6, 4, 4, 1, 1, 1, 5, 4, 3, 6, 4, 4, 0, 3, 3, 3, 2, 1, 2, 1, 1, 3,\n",
       "        6, 3, 3, 4, 4, 6, 6, 0, 0, 0, 3, 1, 4, 2, 4, 1, 1, 1, 1, 5, 5, 5,\n",
       "        2, 1, 2, 2, 1, 4, 3, 3, 6, 6, 4, 4, 4, 4, 4, 4, 6, 4, 3, 3, 3, 3,\n",
       "        1, 5, 5, 1, 5, 4, 4, 5, 4, 5, 4, 4, 1, 1, 4, 6, 4, 6, 4, 3, 3, 3,\n",
       "        3, 3, 3, 3, 3, 1, 1, 1, 1, 6, 4, 6, 6, 1, 1, 2, 1, 4, 5, 5, 5, 1,\n",
       "        2, 1, 1, 4, 4, 6, 6, 1, 4, 1, 5, 1, 2, 5, 2, 2, 2, 6, 6, 1, 2, 1,\n",
       "        5, 5, 1, 1, 1, 4, 5, 5, 5, 1, 1, 1, 2, 2, 1, 1, 1, 1, 2, 1, 1, 1,\n",
       "        5, 2, 6, 6, 5, 5, 4, 6, 4, 4, 2, 2, 2, 1, 1, 4, 4, 1, 2, 2, 1, 1,\n",
       "        1, 1, 1, 1, 1, 1, 4, 4, 5, 5, 5, 5, 4, 4, 2, 5, 2, 2]),\n",
       " 8: array([0, 0, 0, 0, 0, 7, 7, 7, 7, 7, 0, 0, 0, 7, 3, 1, 1, 6, 6, 2, 1, 3,\n",
       "        6, 3, 3, 7, 4, 7, 4, 6, 6, 3, 3, 1, 1, 1, 1, 4, 7, 4, 4, 7, 7, 7,\n",
       "        3, 2, 1, 3, 3, 3, 2, 6, 2, 2, 2, 2, 6, 6, 2, 2, 6, 4, 7, 4, 4, 0,\n",
       "        7, 4, 4, 7, 3, 0, 4, 4, 4, 3, 2, 5, 2, 6, 6, 3, 6, 6, 4, 0, 4, 4,\n",
       "        0, 7, 4, 4, 4, 7, 7, 0, 1, 1, 1, 1, 1, 2, 4, 4, 4, 7, 3, 2, 2, 6,\n",
       "        3, 2, 3, 6, 4, 7, 2, 6, 3, 1, 0, 3, 3, 0, 1, 1, 1, 2, 6, 2, 6, 1,\n",
       "        1, 1, 4, 4, 4, 4, 4, 6, 6, 6, 6, 2, 6, 6, 6, 3, 6, 6, 1, 1, 5, 5,\n",
       "        7, 4, 4, 4, 5, 5, 5, 5, 1, 3, 0, 6, 1, 1, 2, 3, 6, 1, 3, 6, 1, 3,\n",
       "        1, 3, 3, 2, 6, 6, 3, 6, 6, 4, 4, 4, 4, 1, 1, 1, 1, 2, 2, 6, 6, 1,\n",
       "        5, 1, 1, 3, 6, 6, 3, 1, 4, 5, 1, 1, 7, 0, 4, 4, 2, 6, 2, 6, 6, 0,\n",
       "        5, 4, 4, 1, 1, 1, 5, 7, 7, 7, 4, 6, 1, 2, 1, 6, 6, 6, 6, 3, 3, 3,\n",
       "        2, 6, 2, 2, 6, 1, 0, 0, 5, 1, 1, 3, 1, 1, 1, 1, 5, 1, 0, 0, 0, 4,\n",
       "        6, 3, 3, 6, 3, 1, 1, 3, 1, 3, 1, 1, 6, 6, 1, 1, 1, 1, 1, 4, 4, 4,\n",
       "        4, 4, 4, 1, 4, 6, 6, 6, 3, 5, 1, 5, 5, 3, 6, 2, 6, 1, 3, 3, 3, 6,\n",
       "        2, 6, 6, 1, 1, 5, 5, 6, 3, 6, 3, 6, 2, 3, 2, 2, 2, 5, 5, 6, 2, 6,\n",
       "        0, 3, 3, 6, 6, 6, 3, 3, 3, 6, 6, 6, 2, 2, 6, 6, 6, 6, 2, 6, 6, 6,\n",
       "        3, 2, 5, 5, 3, 3, 1, 5, 1, 1, 2, 2, 2, 6, 6, 1, 1, 6, 2, 6, 6, 6,\n",
       "        6, 6, 6, 6, 6, 6, 1, 1, 3, 3, 3, 3, 1, 1, 2, 3, 2, 2]),\n",
       " 9: array([1, 1, 1, 1, 1, 5, 5, 5, 5, 5, 1, 1, 1, 5, 3, 7, 7, 0, 3, 6, 8, 3,\n",
       "        8, 3, 3, 5, 5, 5, 2, 3, 3, 3, 3, 7, 7, 7, 7, 1, 5, 2, 2, 5, 5, 5,\n",
       "        7, 8, 7, 7, 3, 3, 8, 3, 8, 8, 8, 8, 3, 0, 6, 8, 0, 1, 5, 2, 2, 1,\n",
       "        5, 2, 2, 5, 3, 1, 2, 2, 2, 7, 8, 4, 8, 0, 0, 3, 0, 0, 2, 1, 2, 2,\n",
       "        1, 5, 2, 2, 2, 5, 5, 1, 7, 4, 7, 7, 7, 6, 2, 5, 2, 5, 7, 8, 8, 0,\n",
       "        3, 8, 3, 3, 2, 5, 8, 0, 3, 7, 1, 3, 7, 1, 7, 7, 4, 8, 0, 6, 0, 4,\n",
       "        4, 7, 2, 2, 2, 2, 2, 0, 0, 3, 0, 8, 3, 0, 3, 3, 3, 0, 7, 7, 4, 4,\n",
       "        5, 2, 2, 2, 4, 4, 4, 4, 7, 7, 1, 0, 0, 7, 8, 3, 0, 7, 7, 3, 4, 7,\n",
       "        7, 7, 3, 0, 3, 0, 3, 8, 0, 2, 2, 2, 2, 7, 7, 4, 4, 6, 6, 3, 0, 4,\n",
       "        4, 7, 4, 3, 0, 0, 3, 7, 2, 4, 7, 4, 5, 1, 2, 2, 8, 3, 8, 3, 0, 1,\n",
       "        4, 2, 2, 7, 4, 4, 4, 5, 1, 5, 2, 3, 7, 8, 7, 0, 0, 0, 3, 7, 3, 3,\n",
       "        6, 0, 8, 8, 0, 7, 2, 1, 4, 4, 7, 7, 4, 4, 7, 7, 4, 7, 1, 1, 1, 2,\n",
       "        0, 3, 3, 3, 3, 7, 4, 3, 7, 7, 7, 7, 0, 0, 7, 4, 4, 4, 7, 2, 2, 2,\n",
       "        2, 2, 2, 7, 2, 3, 0, 3, 3, 4, 4, 6, 4, 3, 0, 8, 0, 7, 3, 3, 3, 3,\n",
       "        8, 0, 0, 7, 4, 4, 4, 0, 7, 8, 3, 0, 8, 7, 8, 6, 6, 8, 6, 3, 8, 0,\n",
       "        1, 3, 3, 0, 0, 0, 3, 3, 3, 0, 0, 0, 8, 8, 0, 0, 0, 0, 6, 3, 3, 0,\n",
       "        3, 8, 4, 4, 3, 7, 7, 4, 4, 4, 8, 8, 8, 0, 0, 4, 7, 0, 8, 8, 0, 0,\n",
       "        3, 3, 0, 0, 0, 0, 7, 7, 3, 7, 3, 3, 4, 7, 6, 3, 8, 8]),\n",
       " 10: array([7, 7, 7, 7, 7, 2, 2, 2, 2, 2, 7, 7, 7, 2, 9, 4, 4, 4, 1, 3, 4, 9,\n",
       "        5, 9, 9, 2, 2, 2, 6, 1, 1, 9, 9, 4, 4, 4, 4, 2, 2, 6, 6, 2, 2, 2,\n",
       "        9, 5, 4, 4, 1, 1, 5, 1, 5, 5, 5, 3, 1, 5, 3, 5, 5, 2, 2, 6, 6, 7,\n",
       "        2, 6, 6, 2, 9, 7, 6, 6, 6, 9, 5, 8, 5, 1, 5, 9, 1, 5, 2, 7, 6, 6,\n",
       "        7, 2, 6, 6, 6, 2, 2, 7, 4, 0, 4, 4, 4, 3, 6, 2, 2, 2, 9, 5, 5, 4,\n",
       "        1, 5, 9, 1, 6, 2, 3, 1, 9, 4, 7, 9, 9, 7, 4, 4, 4, 5, 5, 3, 5, 0,\n",
       "        0, 0, 6, 6, 6, 6, 6, 5, 1, 1, 5, 5, 1, 1, 1, 9, 1, 1, 4, 4, 8, 8,\n",
       "        2, 6, 6, 6, 0, 0, 0, 0, 4, 9, 7, 1, 4, 4, 5, 9, 5, 4, 9, 1, 4, 9,\n",
       "        4, 9, 9, 5, 1, 5, 9, 5, 1, 6, 6, 6, 6, 4, 4, 4, 4, 3, 3, 1, 5, 0,\n",
       "        8, 0, 0, 1, 5, 5, 1, 4, 6, 8, 4, 0, 2, 7, 6, 6, 5, 1, 5, 1, 5, 7,\n",
       "        0, 6, 6, 0, 0, 0, 0, 2, 2, 2, 6, 1, 4, 5, 4, 5, 1, 5, 1, 9, 9, 9,\n",
       "        3, 1, 3, 5, 5, 4, 6, 7, 0, 0, 4, 4, 0, 4, 4, 4, 0, 4, 7, 7, 7, 6,\n",
       "        5, 9, 9, 1, 9, 4, 4, 9, 4, 9, 4, 4, 1, 5, 4, 4, 4, 0, 4, 6, 6, 6,\n",
       "        6, 6, 6, 6, 6, 1, 1, 1, 1, 8, 0, 8, 8, 1, 1, 5, 1, 4, 9, 9, 9, 1,\n",
       "        5, 1, 5, 4, 4, 8, 0, 1, 4, 5, 9, 1, 5, 9, 5, 3, 3, 8, 8, 1, 5, 1,\n",
       "        7, 9, 1, 5, 1, 4, 9, 9, 9, 5, 5, 1, 5, 5, 5, 1, 1, 1, 3, 1, 1, 5,\n",
       "        9, 5, 8, 8, 9, 9, 4, 0, 4, 4, 8, 5, 5, 4, 4, 4, 4, 1, 5, 5, 1, 5,\n",
       "        1, 1, 5, 1, 1, 1, 4, 4, 9, 9, 9, 9, 4, 4, 3, 9, 5, 8]),\n",
       " 11: array([ 7,  6,  6,  6,  6,  8,  8,  8,  8,  6,  6,  6,  6,  6,  3,  2,  2,\n",
       "         9,  3,  5,  9,  3,  9, 10,  3,  8,  1,  8,  1,  3,  3,  3, 10,  2,\n",
       "         2,  2,  2,  1,  1,  7,  7,  1,  1,  1, 10,  9,  2,  2,  3,  3,  0,\n",
       "         3,  0,  0,  0,  5,  3,  0,  5,  9,  9,  1,  1,  7,  7,  6,  8,  1,\n",
       "         1,  1, 10,  7,  7,  7,  7, 10,  9,  4,  0,  3,  9, 10,  3,  3,  1,\n",
       "         6,  7,  7,  7,  8,  1,  1,  7,  8,  8,  6,  2,  4,  2,  2,  2,  5,\n",
       "         1,  1,  1,  1, 10,  9,  9,  9,  3,  9, 10,  3,  7,  8,  0,  3, 10,\n",
       "         2,  6, 10, 10,  6,  2,  2,  2,  0,  9,  5,  9,  2,  4,  2,  7,  1,\n",
       "         7,  7,  7,  9,  3,  3,  0,  0,  3,  3,  3,  3,  3,  3,  2,  2,  4,\n",
       "         4,  1,  7,  7,  1,  4,  4,  4,  4,  2, 10, 10,  3,  9,  2,  9, 10,\n",
       "         0,  9, 10,  3,  2, 10,  9, 10, 10,  0,  3,  9,  3,  9,  3,  7,  7,\n",
       "         7,  7,  2,  2,  9,  9,  5,  5,  3,  0,  4,  4,  2,  2,  3,  0,  0,\n",
       "         3,  2,  7,  4,  2,  2,  1,  7,  7,  7,  0,  3,  0,  3,  0,  7,  4,\n",
       "         7,  7,  2,  2,  4,  4,  1,  1,  1,  7,  3,  9,  0,  2,  0,  3,  0,\n",
       "         3, 10, 10, 10,  5,  3,  0,  0,  0,  2,  7,  7,  4,  4,  2,  2,  2,\n",
       "         2,  2,  2,  4,  2,  7,  7,  6,  7,  0, 10,  3,  3, 10,  2,  9,  3,\n",
       "         2, 10,  2,  2,  3,  0,  2,  9,  9,  4,  2,  7,  7,  7,  7,  7,  7,\n",
       "         7,  7,  3,  3,  3,  3,  4,  2,  5,  4,  3,  3,  0,  3,  9, 10, 10,\n",
       "        10,  3,  0,  3,  0,  9,  9,  4,  4,  3,  2,  9,  3,  3,  0, 10,  0,\n",
       "         5,  5,  4,  4,  3,  0,  3, 10, 10,  3,  0,  3,  9, 10, 10, 10,  0,\n",
       "         0,  0,  0,  0,  0,  3,  3,  0,  5,  3,  3,  9, 10,  9,  4,  4, 10,\n",
       "        10,  2,  4,  2,  2,  9,  9,  9,  9,  9,  9,  2,  3,  0,  0,  3,  0,\n",
       "         3,  3,  0,  3,  3,  0,  2,  9, 10, 10, 10, 10,  9,  2,  5, 10,  9,\n",
       "         9]),\n",
       " 12: array([ 5,  5,  5,  5,  5,  7,  7,  7,  7,  7,  5,  5,  5,  7,  2, 10, 10,\n",
       "         0, 11,  3,  0,  2,  0,  2,  2,  1,  1,  1,  8, 11, 11,  2,  2, 10,\n",
       "        10, 10, 10,  1,  1,  8,  8,  1,  1,  1,  2,  3, 10, 10, 11, 11,  3,\n",
       "        11,  3,  6,  3,  3, 11,  6,  3,  3,  6,  1,  1,  8,  8,  5,  7,  8,\n",
       "         8,  1,  2,  5,  8,  8,  8, 10,  0,  4,  6,  0,  0,  2, 11,  6,  1,\n",
       "         5,  8,  8,  5,  1,  1,  8,  8,  7,  7,  5, 10,  9, 10,  0,  0,  3,\n",
       "         8,  1,  1,  1,  2,  3,  3,  0, 11,  6,  2, 11,  8,  7,  3, 11,  2,\n",
       "        10,  5,  2,  2,  5, 10, 10,  9,  3,  0,  3,  0,  9,  9,  9,  8,  8,\n",
       "         8,  8,  8,  6, 11, 11,  6,  3, 11, 11, 11,  2, 11,  6, 10, 10,  4,\n",
       "         4,  1,  8,  8,  8,  4,  9,  9,  9, 10, 10,  5,  6,  0, 10,  0,  2,\n",
       "         6,  0, 10, 11,  0,  2,  0,  2,  2,  6, 11,  6,  2,  6, 11,  8,  8,\n",
       "         8,  8, 10, 10,  0,  0,  3,  3, 11,  6,  9,  4, 10,  9, 11,  6,  6,\n",
       "        11, 10,  8,  4, 10,  9,  1,  5,  8,  8,  6, 11,  6, 11,  6,  5,  9,\n",
       "         8,  8, 10,  9,  9,  9,  1,  1,  1,  8, 11,  0,  6,  0,  6, 11,  6,\n",
       "        11,  2,  2,  2,  3, 11,  3,  6,  6, 10,  8,  5,  9,  9,  0,  0,  9,\n",
       "         0, 10,  0,  9, 10,  5,  5,  5,  8,  6,  2,  2, 11,  2,  0,  0,  2,\n",
       "        10, 10, 10, 10, 11,  6, 10,  0,  0,  9, 10,  8,  8,  8,  8,  8,  8,\n",
       "        10,  8, 11, 11, 11,  2,  4,  9,  4,  4, 11, 11,  3, 11,  0,  2,  2,\n",
       "         2, 11,  3, 11,  6,  0,  0,  4,  9, 11,  0,  0,  2, 11,  6,  2,  3,\n",
       "         3,  3,  4,  4, 11,  6, 11,  5,  2,  2,  6,  0,  0,  2,  2,  2,  6,\n",
       "         6,  6,  6,  3,  6,  6, 11,  6,  3, 11, 11,  6,  2,  0,  4,  4,  2,\n",
       "         2, 10,  9,  0,  9,  4,  0,  0,  0,  0,  0,  0, 11,  6,  6, 11,  6,\n",
       "        11, 11,  6, 11, 11,  6, 10,  0,  2,  2,  2,  2,  0,  0,  3,  2,  0,\n",
       "         4]),\n",
       " 13: array([ 1,  1,  1,  1,  1,  8,  8,  8,  8,  8,  1,  1,  1,  8, 10, 10, 10,\n",
       "        10, 11,  9,  0, 10,  0,  2, 10,  6,  6,  6,  4, 11, 10, 11,  2,  5,\n",
       "         5,  5,  5,  6,  6,  4,  4,  6,  6,  6,  2,  0,  5, 10, 11, 11,  3,\n",
       "        11,  3,  3,  3,  9, 10,  3,  9,  0,  3,  6,  6,  4,  4,  1,  8,  4,\n",
       "         4,  6,  2,  1,  4,  4,  4,  2,  0,  0,  3, 10,  0, 10, 11,  3,  6,\n",
       "         1,  4,  4,  1,  6,  6,  4,  4,  8,  8,  1,  5, 12, 10, 10, 10,  9,\n",
       "         4,  6,  6,  6, 10,  0,  0, 10, 11,  0,  2, 10,  4,  8,  9, 11,  2,\n",
       "        10,  1,  2,  2,  1,  5, 10,  5,  3, 10,  9,  0, 12, 12,  5,  4,  4,\n",
       "         4,  4,  4,  3, 11, 11,  3,  3, 11, 11, 11, 10, 10, 11,  5,  5,  7,\n",
       "         7,  6,  4,  4,  4, 12, 12, 12, 12,  5,  2,  1, 11,  0, 10,  0,  2,\n",
       "         3,  0, 10, 11,  5, 10,  0, 10,  2,  3, 10,  3, 10,  3, 11,  4,  4,\n",
       "         4,  4,  5,  5,  0,  0,  9,  9, 11,  3, 12,  7,  5,  0, 11,  3,  3,\n",
       "        11,  5,  4,  7, 10,  5,  6,  1,  4,  4,  3, 11,  3, 10,  3,  1, 12,\n",
       "         4,  4,  5,  5, 12, 12,  6,  6,  6,  4, 11, 10,  3, 10,  3, 11,  3,\n",
       "        11, 10,  2,  2,  9, 11,  9,  3,  3,  5,  4,  1, 12,  0, 10, 10,  5,\n",
       "         5,  5,  0, 12,  5,  1,  1,  1,  4,  3,  2, 10, 11, 10, 10,  0, 10,\n",
       "        10,  2, 10,  5, 11,  3,  5,  0,  0, 12,  5,  4,  4,  4,  4,  4,  4,\n",
       "         5,  4, 11, 11, 11, 10,  7, 12,  7,  7, 11, 11,  3, 11, 10,  2,  2,\n",
       "         2, 11,  3, 11,  3, 10,  0,  7, 12, 11, 10,  0, 10, 11,  3,  2,  3,\n",
       "         9,  9,  7,  7, 11,  3, 11,  1,  2, 10,  3, 10, 10, 10,  2,  2,  3,\n",
       "         3,  3,  3,  3,  3, 11, 11,  3,  9, 11, 11,  3, 10,  0,  7,  7,  2,\n",
       "         2,  5, 12,  0,  5,  0,  0,  0, 10, 10,  0, 10, 11,  3,  3, 11,  3,\n",
       "        11, 11,  3, 11, 11,  3,  5,  0, 10,  2,  2,  2,  0, 10,  9,  2,  0,\n",
       "         0]),\n",
       " 14: array([ 1,  1,  1,  1,  1,  8,  8,  8,  8,  8,  1,  8,  1,  8,  3,  3,  3,\n",
       "         3, 10, 13,  0,  3,  0,  6,  3,  4,  4,  4,  7, 10,  3, 10,  6, 11,\n",
       "        11, 11, 11,  1,  4,  7,  1,  4,  4,  4,  6,  5, 11,  3, 10, 10,  5,\n",
       "        10,  5,  5,  5,  5,  3,  2, 13,  0,  2,  1,  4,  7,  1,  1,  4,  7,\n",
       "         7,  4, 10,  1,  7,  7,  7,  6,  0,  0,  5,  3,  2,  3, 10,  2,  1,\n",
       "         1,  1,  7,  1,  4,  1,  7,  7,  4,  4,  1, 11,  9,  3,  0,  3, 13,\n",
       "         7,  4,  4,  4,  3,  5,  5,  3, 10,  5,  6,  3,  1,  8,  5,  2,  3,\n",
       "         3,  1,  6,  6,  1, 11,  3, 11,  5,  2, 13,  0,  9,  9, 11,  7,  7,\n",
       "         7,  7,  7,  2,  2, 10,  2,  5, 10,  2, 10,  3,  3,  2, 11, 11, 12,\n",
       "        12,  4,  7,  7,  7,  9,  9,  9,  9, 11,  6,  6,  2,  0,  3,  0,  6,\n",
       "         2,  0,  3, 10,  0,  3,  0,  3,  6,  5,  3,  2,  3,  5, 10,  7,  7,\n",
       "         7,  1, 11, 11,  0,  0, 13, 13, 10,  5,  9, 12, 11,  0, 10,  2,  2,\n",
       "        10, 11,  1, 12,  3, 11,  4,  1,  7,  7,  5, 10,  5,  3,  2,  1,  9,\n",
       "         7,  7, 11, 11,  9,  9,  4,  1,  4,  7, 10,  3,  5,  3,  2,  2,  2,\n",
       "        10,  3,  6,  6, 13, 10,  5,  5,  2, 11,  1,  1,  9,  0,  3,  3, 11,\n",
       "         0, 11,  0,  9, 11,  1,  1,  1,  7,  2,  3,  3, 10,  3,  3,  0,  3,\n",
       "         3,  6,  3, 11, 10,  2, 11,  0,  0,  0, 11,  7,  1,  1,  7,  7,  7,\n",
       "        11,  1, 10,  2, 10,  3, 12,  9, 12, 12, 10, 10,  5, 10,  3,  6,  6,\n",
       "         6, 10,  5,  2,  2,  3,  0, 12,  9,  2,  3,  0,  3, 10,  5,  6,  5,\n",
       "        13, 13, 12, 12, 10,  5,  2,  6,  6,  3,  2,  3,  3,  3,  6, 10,  2,\n",
       "         2,  2,  5,  5,  2,  2, 10,  2, 13, 10, 10,  2,  3,  0, 12, 12,  6,\n",
       "         6, 11,  9,  0, 11,  0,  0,  0,  3,  3,  0,  3,  2,  5,  5, 10,  2,\n",
       "        10, 10,  2, 10,  2,  2, 11,  0,  3,  6,  6, 10,  0,  3, 13, 10,  0,\n",
       "         0]),\n",
       " 15: array([ 1,  1,  1,  1,  1,  5,  5,  5,  5,  5,  1,  1,  1,  5,  9,  9,  9,\n",
       "         9,  2,  3, 11,  9, 11, 10,  9, 14, 14, 14, 14,  2,  9,  2, 10,  0,\n",
       "         0,  0,  0,  8,  8, 13, 13,  8,  8,  8, 10,  6,  0,  0,  2,  2,  6,\n",
       "         2,  6, 12,  6,  3,  9, 12,  3,  6, 12,  8,  8, 13, 13,  1,  5, 13,\n",
       "        13,  8, 10,  1, 13, 13, 13,  0,  6,  4,  6,  9, 12,  9,  2, 12,  8,\n",
       "         1, 13, 13,  1,  8,  8, 13, 13,  5,  5,  1,  0,  7,  0, 11, 11,  3,\n",
       "        13,  8,  8,  8,  9,  6,  6,  9,  2,  6, 10,  9, 13,  5,  6,  2,  9,\n",
       "         0,  1, 10, 10,  1, 11,  0,  0,  6, 12,  3, 11,  7,  7,  0, 13, 13,\n",
       "        13, 13, 13, 12, 12,  2, 12,  6,  2,  2,  2,  9,  9, 12,  0,  0,  4,\n",
       "         4,  8, 13, 13, 13,  7,  7,  7,  7,  0, 10, 10, 12, 11,  0,  6, 10,\n",
       "        12, 11,  0,  2, 11,  9, 11,  9, 10, 12,  9, 12,  9,  6,  2, 13, 13,\n",
       "        13, 13,  0,  0, 11, 11,  3,  3,  2, 12,  7,  4,  0, 11,  2, 12, 12,\n",
       "         2,  0, 13,  4,  0,  7,  8,  1, 13, 13,  6,  2,  6,  9, 12,  1,  7,\n",
       "        13, 13,  0,  0,  7,  7,  8,  8,  8, 13,  2,  9,  6,  9, 12, 12, 12,\n",
       "         2,  9, 10, 10,  3,  2,  6,  6, 12,  0, 13,  1,  7, 11, 11,  9,  7,\n",
       "        11,  0, 11,  7,  0,  1,  1,  1, 13, 12,  9,  9,  2,  9, 11, 11,  9,\n",
       "         0, 10,  0,  0,  2, 12,  0, 11, 11, 11,  0, 13, 13, 13, 13, 13, 13,\n",
       "         0, 13,  2,  2,  2,  9,  4,  7,  4,  4,  2,  2,  6,  2,  9, 10, 10,\n",
       "        10,  2,  6, 12, 12, 11, 11,  4,  7, 12,  9, 11,  9,  2,  6,  9,  6,\n",
       "         3,  3,  4,  4,  2,  6, 12, 10, 10,  9, 12,  9, 11,  9, 10,  2, 12,\n",
       "        12, 12,  6,  6, 12, 12,  2, 12,  3,  2,  2, 12,  9,  6,  4,  4, 10,\n",
       "        10,  0,  7, 11, 11,  6, 11,  6,  9,  9, 11, 11,  2,  6, 12,  2, 12,\n",
       "         2,  2, 12,  2, 12, 12,  0, 11,  9,  0,  9,  2, 11,  9,  3, 10,  6,\n",
       "         6])}"
      ]
     },
     "execution_count": 9,
     "metadata": {},
     "output_type": "execute_result"
    }
   ],
   "source": [
    "labels_k = dict()\n",
    "# Add your answer to Question 5 here\n",
    "for i in range(2, 16):\n",
    "    km_obj = KMeans(n_clusters=i)\n",
    "    labels_k[i] = km_obj.fit_predict(data)\n",
    "labels_k"
   ]
  },
  {
   "cell_type": "markdown",
   "metadata": {},
   "source": [
    "In the example above, we created a $k$-means fit with $k=5$ and stored the resulting labeling in `labels`. To calculate the average Silhouette coefficient for our entire dataset, we can use the `silhouette_score` function from `scikit-learn`.\n",
    "\n",
    "`silhouette_score` expects to be called like `silhouette_score(data,labels)`."
   ]
  },
  {
   "cell_type": "code",
   "execution_count": 10,
   "metadata": {},
   "outputs": [
    {
     "name": "stdout",
     "output_type": "stream",
     "text": [
      "Silhouette score for K=5: 0.354\n"
     ]
    }
   ],
   "source": [
    "print(\"Silhouette score for K=5: %0.3f\" % silhouette_score(data,labels))"
   ]
  },
  {
   "cell_type": "markdown",
   "metadata": {},
   "source": [
    "## Q6 [15 points]\n",
    "\n",
    "Great! Now that we have a set of $k$-means labelings for $k = [2,15]$, we can evaluate each one using `silhouette_score` to obtain the \"best\" fitting $k$ for our model.\n",
    "\n",
    "We will use the `labels_k` dictionary you created above to plot the Silhouette score for each $k$.\n",
    "\n",
    "### 6.1:\n",
    "Create a line plot which has $k$ on the X-axis, and the calculated Silhouette score on the Y-axis (refer to the above cell for how to calculate Silhouette score given a set of labels).\n",
    "\n",
    "The plot should show a line along with markers at each point. \n",
    "\n",
    "Be sure to label your axes and give the chart a title!\n",
    "\n",
    "### 6.2:\n",
    "Based on what we saw with Silhouette coefficient in the previous section, which value of $k$ provides the \"best\" (as defined by silhouette score) agreement between the clusters and the data?"
   ]
  },
  {
   "cell_type": "code",
   "execution_count": 11,
   "metadata": {},
   "outputs": [
    {
     "data": {
      "text/plain": [
       "[<matplotlib.lines.Line2D at 0x14825948250>]"
      ]
     },
     "execution_count": 11,
     "metadata": {},
     "output_type": "execute_result"
    },
    {
     "data": {
      "image/png": "[encoded data removed]",
      "text/plain": [
       "<Figure size 432x288 with 1 Axes>"
      ]
     },
     "metadata": {
      "needs_background": "light"
     },
     "output_type": "display_data"
    }
   ],
   "source": [
    "# TODO:\n",
    "# Add your answer to 6.1 here\n",
    "\n",
    "plt.xlabel(\"K\")\n",
    "plt.ylabel(\"SILHOUETTE SCORE\")\n",
    "plt.title(\"K VS. SILHOUETTE SCORE\")\n",
    "# x-axis should be 2-15\n",
    "x = []\n",
    "for i in range(2, 16):\n",
    "    x.append(i)\n",
    "scores = []\n",
    "for i in labels_k.values():\n",
    "    scores.append(silhouette_score(data, i))\n",
    "\n",
    "plt.plot(x, scores)"
   ]
  },
  {
   "cell_type": "code",
   "execution_count": 12,
   "metadata": {},
   "outputs": [],
   "source": [
    "# TODO:\n",
    "# Add your answer to 6.2 here\n",
    "#\n",
    "# Answer:\n",
    "# As the k value increases, particularly passing k >= 6, the silhouette \n",
    "# score decreases\n",
    "# however, more importantly, we want to figure out the best k value, which would\n",
    "# be when k is closest to 1, which in our case is our lowest k, at k=2."
   ]
  },
  {
   "cell_type": "markdown",
   "metadata": {},
   "source": [
    "Now let's visualize some of these clustering results. \n",
    "\n",
    "We can use the `pairplot` function from the `seaborn` library to produce a grid of scatter plots between each pair of variables.\n",
    "\n",
    "The `plot_kws={\"s\":10}` argument sets the size of the points in the scatter plot to be `10`. This is because sometimes larger point sizes can make it difficult to see separation between groups. You may change this to be larger or smaller if you wish."
   ]
  },
  {
   "cell_type": "code",
   "execution_count": 13,
   "metadata": {},
   "outputs": [],
   "source": [
    "import seaborn as sns"
   ]
  },
  {
   "cell_type": "code",
   "execution_count": 14,
   "metadata": {},
   "outputs": [
    {
     "data": {
      "text/plain": [
       "<seaborn.axisgrid.PairGrid at 0x1482596dd90>"
      ]
     },
     "execution_count": 14,
     "metadata": {},
     "output_type": "execute_result"
    },
    {
     "data": {
      "image/png": "[encoded data removed]",
      "text/plain": [
       "<Figure size 540x540 with 12 Axes>"
      ]
     },
     "metadata": {
      "needs_background": "light"
     },
     "output_type": "display_data"
    }
   ],
   "source": [
    "v_data = data.copy()\n",
    "sns.pairplot(v_data,plot_kws={\"s\":10})"
   ]
  },
  {
   "cell_type": "markdown",
   "metadata": {},
   "source": [
    "Using the `hue` argument to `pairplot`, we can select one of the columns to be the color for the plot. This is handy for visualizing clustering results.\n",
    "\n",
    "First, let's visualize the clustering result for $k=2$."
   ]
  },
  {
   "cell_type": "code",
   "execution_count": 15,
   "metadata": {},
   "outputs": [
    {
     "data": {
      "text/plain": [
       "<seaborn.axisgrid.PairGrid at 0x14826f88970>"
      ]
     },
     "execution_count": 15,
     "metadata": {},
     "output_type": "execute_result"
    },
    {
     "data": {
      "image/png": "[encoded data removed]",
      "text/plain": [
       "<Figure size 582.375x540 with 12 Axes>"
      ]
     },
     "metadata": {
      "needs_background": "light"
     },
     "output_type": "display_data"
    }
   ],
   "source": [
    "VIS_K = 2\n",
    "v_data[\"labels\"] = labels_k[VIS_K]\n",
    "sns.pairplot(data=v_data,hue=\"labels\",plot_kws={\"s\":10})"
   ]
  },
  {
   "cell_type": "markdown",
   "metadata": {},
   "source": [
    "## Q7 [10 points]\n",
    "In a few sentences, use the above plot to discuss how the clustering algorithm has partitioned our data.\n",
    "\n",
    "Here are some examples of questions you might discuss in your answer:\n",
    "\n",
    "* What do the members of each cluster have in common?\n",
    "* Are there any variables that appear to be important/not important for cluster separation?\n",
    "\n",
    "You can also try setting the `VIS_K` variable to a different value, to visualize the cluster separation for other values of $k$. \n",
    "\n",
    "* What happens to the clusters as you increase the value of $k$?"
   ]
  },
  {
   "cell_type": "code",
   "execution_count": 16,
   "metadata": {},
   "outputs": [],
   "source": [
    "# Add your answer to Question 7 here.\n",
    "#\n",
    "# Answer:\n",
    "# Horspower is the most important followed by weight, these graphs appear to\n",
    "# have been more important for cluster separation\n",
    "# Acceleration appears to be 'not important' for cluster separation\n",
    "# As we increase the value of k, we can see why k=2 is the better out of this\n",
    "# specified range as it causes the most separation, as k is increased the clustering\n",
    "# becomes more difficult to create distinctions/separations"
   ]
  },
  {
   "cell_type": "markdown",
   "metadata": {},
   "source": [
    "# Part 2: Agglomerative Clustering (Extra Credit)\n",
    "\n",
    "## IMPORTANT:\n",
    "This section (Questions 8, 9, and 10) gives you the opportunity to earn up to 20 extra credit points! This section is optional, so if you do not want the extra credit, just proceed to **Part 3: Autoencoder**.\n",
    "\n",
    "## Overview:\n",
    "\n",
    "Agglomerative clustering is a method for bottom-up hierarchical clustering. In Agglomerative clustering, each sample starts in its own \"cluster\". A distance metric and linkage criterion are used to determine which clusters to merge with each other at each step. Intuitively, pairs of clusters which are very similar to each other may be merged.\n",
    "\n",
    "Since each sample starts in its own cluster and is merged into larger clusters, the clustering result may be easily visualized as a \"tree\" of hierarchical clusters. \n",
    "\n",
    "![hierarchical clustering result](imgs/hierarchical_cluster.png)\n",
    "*Image Credit: [Wikipedia](https://en.wikipedia.org/wiki/Hierarchical_clustering#/media/File:Hierarchical_clustering_simple_diagram.svg)*\n",
    "\n",
    "To obtain a clustering result for $k$ clusters, one just needs to cut the \"tree\" at the appropriate point. \n",
    "\n",
    "In the following section, we will also apply Agglomerative clustering as a technique for clustering our auto data."
   ]
  },
  {
   "cell_type": "code",
   "execution_count": 17,
   "metadata": {},
   "outputs": [],
   "source": [
    "from sklearn.cluster import AgglomerativeClustering"
   ]
  },
  {
   "cell_type": "markdown",
   "metadata": {},
   "source": [
    "As with the prior section, we can create a `AgglomerativeClustering` object to perform clustering for us. The `n_clusters` parameter controls the value for number of clusters $k$.\n",
    "\n",
    "Here we create an `AgglomerativeClustering` object and call it `agg_obj`, then use the `fit_predict` method to fit it and produce a label set for our data.\n",
    "\n",
    "Finally, we print out the Silhouette score using `silhouette_score`."
   ]
  },
  {
   "cell_type": "code",
   "execution_count": 18,
   "metadata": {},
   "outputs": [
    {
     "name": "stdout",
     "output_type": "stream",
     "text": [
      "Agglomerative Clustering Silhouette score for K=5: 0.329\n"
     ]
    }
   ],
   "source": [
    "agg_obj = AgglomerativeClustering(n_clusters=5)\n",
    "agg_labels = agg_obj.fit_predict(data)\n",
    "print(\"Agglomerative Clustering Silhouette score for K=5: %0.3f\" % silhouette_score(data,agg_labels))"
   ]
  },
  {
   "cell_type": "markdown",
   "metadata": {},
   "source": [
    "## Q8 [10 points]\n",
    "\n",
    "For $k = [2,15]$, fit a Agglomerative Clustering model with $k$ clusters and store the results in the dictionary `agg_labels_k`.\n",
    "\n",
    "The dictionary entry `agg_labels_k[i]` should hold the array of labels returned from the clustering fit with $i$ clusters.\n",
    "\n",
    "Your `agg_labels_k` dictionary should look something like this:\n",
    "\n",
    "```\n",
    "{2: array([...]),\n",
    " 3: array([...]),\n",
    " ...\n",
    " 15: array([...])}\n",
    "```\n",
    "\n",
    "Where each `array([...])` contains a set of cluster labels.\n",
    "\n",
    "**NOTE:** You can resue most of your code from Q5!"
   ]
  },
  {
   "cell_type": "code",
   "execution_count": 19,
   "metadata": {},
   "outputs": [
    {
     "data": {
      "text/plain": [
       "{2: array([1, 1, 1, 1, 1, 1, 1, 1, 1, 1, 1, 1, 1, 1, 0, 0, 0, 0, 0, 0, 0, 0,\n",
       "        0, 0, 0, 1, 1, 1, 1, 0, 0, 0, 0, 0, 0, 0, 0, 1, 1, 1, 1, 1, 1, 1,\n",
       "        0, 0, 0, 0, 0, 0, 0, 0, 0, 0, 0, 0, 0, 0, 0, 0, 0, 1, 1, 1, 1, 1,\n",
       "        1, 1, 1, 1, 0, 1, 1, 1, 1, 0, 0, 0, 0, 0, 0, 0, 0, 0, 1, 1, 1, 1,\n",
       "        1, 1, 1, 1, 1, 1, 1, 1, 0, 0, 0, 0, 0, 0, 1, 1, 1, 1, 0, 0, 0, 0,\n",
       "        0, 0, 0, 0, 1, 1, 0, 0, 0, 0, 1, 0, 0, 1, 0, 0, 0, 0, 0, 0, 0, 0,\n",
       "        0, 0, 1, 1, 1, 1, 1, 0, 0, 0, 0, 0, 0, 0, 0, 0, 0, 0, 0, 0, 0, 0,\n",
       "        1, 1, 1, 1, 0, 0, 0, 0, 0, 0, 1, 0, 0, 0, 0, 0, 0, 0, 0, 0, 0, 0,\n",
       "        0, 0, 0, 0, 0, 0, 0, 0, 0, 1, 1, 1, 1, 0, 0, 0, 0, 0, 0, 0, 0, 0,\n",
       "        0, 0, 0, 0, 0, 0, 0, 0, 1, 0, 0, 0, 1, 1, 1, 1, 0, 0, 0, 0, 0, 1,\n",
       "        0, 1, 1, 0, 0, 0, 0, 1, 1, 1, 1, 0, 0, 0, 0, 0, 0, 0, 0, 0, 0, 0,\n",
       "        0, 0, 0, 0, 0, 0, 1, 1, 0, 0, 0, 0, 0, 0, 0, 0, 0, 0, 1, 1, 1, 1,\n",
       "        0, 0, 0, 0, 0, 0, 0, 0, 0, 0, 0, 1, 0, 0, 0, 0, 0, 0, 0, 1, 1, 1,\n",
       "        1, 1, 1, 1, 1, 0, 0, 0, 0, 0, 0, 0, 0, 0, 0, 0, 0, 0, 0, 0, 0, 0,\n",
       "        0, 0, 0, 0, 0, 0, 0, 0, 0, 0, 0, 0, 0, 0, 0, 0, 0, 0, 0, 0, 0, 0,\n",
       "        1, 0, 0, 0, 0, 0, 0, 0, 0, 0, 0, 0, 0, 0, 0, 0, 0, 0, 0, 0, 0, 0,\n",
       "        0, 0, 0, 0, 0, 0, 0, 0, 0, 0, 0, 0, 0, 0, 0, 0, 0, 0, 0, 0, 0, 0,\n",
       "        0, 0, 0, 0, 0, 0, 0, 0, 0, 0, 0, 0, 0, 0, 0, 0, 0, 0], dtype=int64),\n",
       " 3: array([1, 1, 1, 1, 1, 1, 1, 1, 1, 1, 1, 1, 1, 1, 2, 2, 2, 2, 2, 0, 0, 2,\n",
       "        2, 2, 2, 1, 1, 1, 1, 2, 2, 2, 2, 0, 0, 0, 0, 1, 1, 1, 1, 1, 1, 1,\n",
       "        2, 0, 0, 2, 2, 2, 0, 2, 0, 0, 0, 0, 2, 0, 0, 0, 0, 1, 1, 1, 1, 1,\n",
       "        1, 1, 1, 1, 2, 1, 1, 1, 1, 2, 0, 0, 0, 2, 2, 2, 2, 0, 1, 1, 1, 1,\n",
       "        1, 1, 1, 1, 1, 1, 1, 1, 2, 0, 2, 0, 2, 0, 1, 1, 1, 1, 2, 0, 0, 2,\n",
       "        2, 0, 2, 2, 1, 1, 0, 2, 2, 2, 1, 2, 2, 1, 2, 2, 0, 0, 2, 0, 2, 0,\n",
       "        0, 0, 1, 1, 1, 1, 1, 0, 2, 2, 0, 0, 2, 2, 2, 2, 2, 0, 0, 0, 0, 0,\n",
       "        1, 1, 1, 1, 0, 0, 0, 0, 2, 2, 1, 2, 2, 2, 0, 2, 0, 2, 2, 2, 0, 2,\n",
       "        0, 2, 2, 0, 2, 0, 2, 0, 2, 1, 1, 1, 1, 0, 0, 0, 0, 0, 0, 2, 0, 0,\n",
       "        0, 0, 0, 2, 0, 0, 2, 0, 1, 0, 2, 0, 1, 1, 1, 1, 0, 2, 0, 2, 0, 1,\n",
       "        0, 1, 1, 0, 0, 0, 0, 1, 1, 1, 1, 2, 2, 0, 2, 0, 2, 0, 2, 2, 2, 2,\n",
       "        0, 2, 0, 0, 0, 0, 1, 1, 0, 0, 2, 2, 0, 0, 0, 0, 0, 0, 1, 1, 1, 1,\n",
       "        0, 2, 2, 2, 2, 2, 0, 2, 2, 2, 2, 1, 2, 0, 0, 0, 0, 0, 0, 1, 1, 1,\n",
       "        1, 1, 1, 1, 1, 2, 2, 2, 2, 0, 0, 0, 0, 2, 2, 0, 2, 2, 2, 2, 2, 2,\n",
       "        0, 2, 0, 2, 0, 0, 0, 2, 2, 2, 2, 2, 0, 2, 0, 0, 0, 0, 0, 2, 0, 2,\n",
       "        1, 2, 2, 0, 2, 2, 2, 2, 2, 0, 0, 0, 0, 0, 0, 0, 2, 0, 0, 2, 2, 0,\n",
       "        2, 0, 0, 0, 2, 2, 0, 0, 0, 0, 0, 0, 2, 2, 2, 0, 2, 2, 0, 0, 2, 0,\n",
       "        2, 2, 0, 2, 2, 0, 2, 0, 2, 2, 2, 2, 0, 2, 0, 2, 0, 0], dtype=int64),\n",
       " 4: array([0, 0, 0, 0, 0, 0, 0, 0, 0, 0, 0, 0, 0, 0, 2, 2, 2, 2, 2, 1, 3, 2,\n",
       "        2, 2, 2, 0, 0, 0, 0, 2, 2, 2, 2, 3, 3, 3, 3, 0, 0, 0, 0, 0, 0, 0,\n",
       "        2, 3, 3, 2, 2, 2, 1, 2, 1, 1, 1, 1, 2, 1, 1, 3, 1, 0, 0, 0, 0, 0,\n",
       "        0, 0, 0, 0, 2, 0, 0, 0, 0, 2, 3, 3, 1, 2, 2, 2, 2, 1, 0, 0, 0, 0,\n",
       "        0, 0, 0, 0, 0, 0, 0, 0, 2, 3, 2, 3, 2, 1, 0, 0, 0, 0, 2, 3, 3, 2,\n",
       "        2, 3, 2, 2, 0, 0, 1, 2, 2, 2, 0, 2, 2, 0, 2, 2, 3, 1, 2, 1, 2, 3,\n",
       "        3, 3, 0, 0, 0, 0, 0, 1, 2, 2, 1, 1, 2, 2, 2, 2, 2, 1, 3, 3, 3, 3,\n",
       "        0, 0, 0, 0, 3, 3, 3, 3, 2, 2, 0, 2, 2, 2, 3, 2, 1, 2, 2, 2, 3, 2,\n",
       "        3, 2, 2, 1, 2, 1, 2, 1, 2, 0, 0, 0, 0, 3, 3, 3, 3, 1, 1, 2, 1, 3,\n",
       "        3, 3, 3, 2, 1, 1, 2, 3, 0, 3, 2, 3, 0, 0, 0, 0, 1, 2, 1, 2, 1, 0,\n",
       "        3, 0, 0, 3, 3, 3, 3, 0, 0, 0, 0, 2, 2, 1, 2, 1, 2, 1, 2, 2, 2, 2,\n",
       "        1, 2, 1, 1, 1, 3, 0, 0, 3, 3, 2, 2, 3, 3, 3, 3, 3, 3, 0, 0, 0, 0,\n",
       "        1, 2, 2, 2, 2, 2, 3, 2, 2, 2, 2, 0, 2, 1, 3, 3, 3, 3, 3, 0, 0, 0,\n",
       "        0, 0, 0, 0, 0, 2, 2, 2, 2, 3, 3, 1, 3, 2, 2, 1, 2, 2, 2, 2, 2, 2,\n",
       "        1, 2, 1, 2, 3, 3, 3, 2, 2, 2, 2, 2, 1, 2, 1, 1, 1, 3, 3, 2, 1, 2,\n",
       "        0, 2, 2, 1, 2, 2, 2, 2, 2, 1, 1, 1, 1, 1, 1, 1, 2, 1, 3, 2, 2, 1,\n",
       "        2, 3, 3, 3, 2, 2, 3, 3, 3, 3, 3, 3, 2, 2, 2, 3, 2, 2, 1, 1, 2, 1,\n",
       "        2, 2, 1, 2, 2, 1, 2, 3, 2, 2, 2, 2, 3, 2, 1, 2, 3, 3], dtype=int64),\n",
       " 5: array([3, 3, 3, 3, 3, 4, 4, 4, 4, 4, 3, 3, 3, 4, 2, 2, 2, 2, 2, 0, 1, 2,\n",
       "        2, 2, 2, 4, 4, 4, 4, 2, 2, 2, 2, 1, 1, 1, 1, 4, 4, 3, 3, 4, 4, 4,\n",
       "        2, 1, 1, 2, 2, 2, 0, 2, 0, 0, 0, 0, 2, 0, 0, 1, 0, 4, 4, 3, 3, 3,\n",
       "        4, 3, 3, 4, 2, 3, 3, 3, 3, 2, 1, 1, 0, 2, 2, 2, 2, 0, 4, 3, 3, 3,\n",
       "        3, 4, 3, 3, 3, 4, 4, 3, 2, 1, 2, 1, 2, 0, 3, 4, 4, 4, 2, 1, 1, 2,\n",
       "        2, 1, 2, 2, 3, 4, 0, 2, 2, 2, 3, 2, 2, 3, 2, 2, 1, 0, 2, 0, 2, 1,\n",
       "        1, 1, 3, 3, 3, 3, 3, 0, 2, 2, 0, 0, 2, 2, 2, 2, 2, 0, 1, 1, 1, 1,\n",
       "        4, 3, 3, 3, 1, 1, 1, 1, 2, 2, 3, 2, 2, 2, 1, 2, 0, 2, 2, 2, 1, 2,\n",
       "        1, 2, 2, 0, 2, 0, 2, 0, 2, 3, 3, 3, 3, 1, 1, 1, 1, 0, 0, 2, 0, 1,\n",
       "        1, 1, 1, 2, 0, 0, 2, 1, 3, 1, 2, 1, 4, 3, 3, 3, 0, 2, 0, 2, 0, 3,\n",
       "        1, 3, 3, 1, 1, 1, 1, 4, 4, 4, 3, 2, 2, 0, 2, 0, 2, 0, 2, 2, 2, 2,\n",
       "        0, 2, 0, 0, 0, 1, 3, 3, 1, 1, 2, 2, 1, 1, 1, 1, 1, 1, 3, 3, 3, 3,\n",
       "        0, 2, 2, 2, 2, 2, 1, 2, 2, 2, 2, 3, 2, 0, 1, 1, 1, 1, 1, 3, 3, 3,\n",
       "        3, 3, 3, 3, 3, 2, 2, 2, 2, 1, 1, 0, 1, 2, 2, 0, 2, 2, 2, 2, 2, 2,\n",
       "        0, 2, 0, 2, 1, 1, 1, 2, 2, 2, 2, 2, 0, 2, 0, 0, 0, 1, 1, 2, 0, 2,\n",
       "        3, 2, 2, 0, 2, 2, 2, 2, 2, 0, 0, 0, 0, 0, 0, 0, 2, 0, 1, 2, 2, 0,\n",
       "        2, 1, 1, 1, 2, 2, 1, 1, 1, 1, 1, 1, 2, 2, 2, 1, 2, 2, 0, 0, 2, 0,\n",
       "        2, 2, 0, 2, 2, 0, 2, 1, 2, 2, 2, 2, 1, 2, 0, 2, 1, 1], dtype=int64),\n",
       " 6: array([3, 3, 3, 3, 3, 4, 4, 4, 4, 4, 3, 3, 3, 4, 0, 0, 0, 0, 0, 5, 1, 0,\n",
       "        0, 0, 0, 4, 4, 4, 4, 0, 0, 0, 0, 1, 1, 1, 1, 4, 4, 3, 3, 4, 4, 4,\n",
       "        0, 1, 1, 0, 0, 0, 2, 0, 2, 2, 2, 5, 0, 2, 5, 1, 2, 4, 4, 3, 3, 3,\n",
       "        4, 3, 3, 4, 0, 3, 3, 3, 3, 0, 1, 1, 2, 0, 0, 0, 0, 2, 4, 3, 3, 3,\n",
       "        3, 4, 3, 3, 3, 4, 4, 3, 0, 1, 0, 1, 0, 5, 3, 4, 4, 4, 0, 1, 1, 0,\n",
       "        0, 1, 0, 0, 3, 4, 2, 0, 0, 0, 3, 0, 0, 3, 0, 0, 1, 2, 0, 5, 0, 1,\n",
       "        1, 1, 3, 3, 3, 3, 3, 2, 0, 0, 2, 2, 0, 0, 0, 0, 0, 2, 1, 1, 1, 1,\n",
       "        4, 3, 3, 3, 1, 1, 1, 1, 0, 0, 3, 0, 0, 0, 1, 0, 2, 0, 0, 0, 1, 0,\n",
       "        1, 0, 0, 2, 0, 2, 0, 2, 0, 3, 3, 3, 3, 1, 1, 1, 1, 5, 5, 0, 2, 1,\n",
       "        1, 1, 1, 0, 2, 2, 0, 1, 3, 1, 0, 1, 4, 3, 3, 3, 2, 0, 2, 0, 2, 3,\n",
       "        1, 3, 3, 1, 1, 1, 1, 4, 4, 4, 3, 0, 0, 2, 0, 2, 0, 2, 0, 0, 0, 0,\n",
       "        5, 0, 2, 2, 2, 1, 3, 3, 1, 1, 0, 0, 1, 1, 1, 1, 1, 1, 3, 3, 3, 3,\n",
       "        2, 0, 0, 0, 0, 0, 1, 0, 0, 0, 0, 3, 0, 2, 1, 1, 1, 1, 1, 3, 3, 3,\n",
       "        3, 3, 3, 3, 3, 0, 0, 0, 0, 1, 1, 5, 1, 0, 0, 2, 0, 0, 0, 0, 0, 0,\n",
       "        2, 0, 2, 0, 1, 1, 1, 0, 0, 0, 0, 0, 2, 0, 2, 5, 5, 1, 1, 0, 2, 0,\n",
       "        3, 0, 0, 2, 0, 0, 0, 0, 0, 2, 2, 2, 2, 2, 2, 2, 0, 2, 1, 0, 0, 2,\n",
       "        0, 1, 1, 1, 0, 0, 1, 1, 1, 1, 1, 1, 0, 0, 0, 1, 0, 0, 2, 2, 0, 2,\n",
       "        0, 0, 2, 0, 0, 2, 0, 1, 0, 0, 0, 0, 1, 0, 5, 0, 1, 1], dtype=int64),\n",
       " 7: array([1, 1, 1, 1, 1, 4, 4, 4, 4, 4, 1, 1, 1, 4, 3, 3, 3, 3, 6, 5, 0, 3,\n",
       "        3, 3, 3, 4, 4, 4, 4, 6, 3, 6, 3, 0, 0, 0, 0, 4, 4, 1, 1, 4, 4, 4,\n",
       "        3, 0, 0, 3, 6, 6, 2, 6, 2, 2, 2, 5, 3, 2, 5, 0, 2, 4, 4, 1, 1, 1,\n",
       "        4, 1, 1, 4, 6, 1, 1, 1, 1, 3, 0, 0, 2, 3, 3, 3, 6, 2, 4, 1, 1, 1,\n",
       "        1, 4, 1, 1, 1, 4, 4, 1, 3, 0, 3, 0, 3, 5, 1, 4, 4, 4, 3, 0, 0, 3,\n",
       "        6, 0, 3, 3, 1, 4, 2, 6, 3, 3, 1, 3, 3, 1, 3, 3, 0, 2, 3, 5, 3, 0,\n",
       "        0, 0, 1, 1, 1, 1, 1, 2, 6, 6, 2, 2, 6, 6, 6, 3, 3, 2, 0, 0, 0, 0,\n",
       "        4, 1, 1, 1, 0, 0, 0, 0, 3, 3, 1, 6, 3, 3, 0, 3, 2, 3, 3, 6, 0, 3,\n",
       "        0, 3, 3, 2, 3, 2, 3, 2, 6, 1, 1, 1, 1, 0, 0, 0, 0, 5, 5, 6, 2, 0,\n",
       "        0, 0, 0, 6, 2, 2, 6, 0, 1, 0, 3, 0, 4, 1, 1, 1, 2, 6, 2, 3, 2, 1,\n",
       "        0, 1, 1, 0, 0, 0, 0, 4, 4, 4, 1, 6, 3, 2, 3, 2, 6, 2, 6, 3, 3, 3,\n",
       "        5, 6, 2, 2, 2, 0, 1, 1, 0, 0, 3, 3, 0, 0, 0, 0, 0, 0, 1, 1, 1, 1,\n",
       "        2, 3, 3, 6, 3, 3, 0, 3, 3, 3, 3, 1, 6, 2, 0, 0, 0, 0, 0, 1, 1, 1,\n",
       "        1, 1, 1, 1, 1, 6, 6, 6, 3, 0, 0, 5, 0, 6, 6, 2, 6, 3, 3, 3, 3, 6,\n",
       "        2, 6, 2, 3, 0, 0, 0, 6, 3, 3, 3, 6, 2, 3, 2, 5, 5, 0, 0, 6, 2, 6,\n",
       "        1, 3, 3, 2, 3, 3, 3, 3, 6, 2, 2, 2, 2, 2, 2, 2, 6, 2, 0, 6, 6, 2,\n",
       "        3, 0, 0, 0, 3, 3, 0, 0, 0, 0, 0, 0, 3, 3, 3, 0, 3, 6, 2, 2, 6, 2,\n",
       "        6, 6, 2, 6, 6, 2, 3, 0, 3, 3, 3, 6, 0, 3, 5, 6, 0, 0], dtype=int64),\n",
       " 8: array([0, 0, 0, 0, 0, 4, 4, 4, 4, 4, 0, 0, 0, 4, 1, 1, 1, 1, 6, 5, 3, 1,\n",
       "        1, 1, 1, 4, 4, 4, 4, 6, 1, 6, 1, 7, 7, 7, 7, 4, 4, 0, 0, 4, 4, 4,\n",
       "        1, 3, 7, 1, 6, 6, 2, 6, 2, 2, 2, 5, 1, 2, 5, 3, 2, 4, 4, 0, 0, 0,\n",
       "        4, 0, 0, 4, 6, 0, 0, 0, 0, 1, 3, 3, 2, 1, 1, 1, 6, 2, 4, 0, 0, 0,\n",
       "        0, 4, 0, 0, 0, 4, 4, 0, 1, 3, 1, 3, 1, 5, 0, 4, 4, 4, 1, 3, 3, 1,\n",
       "        6, 3, 1, 1, 0, 4, 2, 6, 1, 1, 0, 1, 1, 0, 1, 1, 7, 2, 1, 5, 1, 7,\n",
       "        7, 7, 0, 0, 0, 0, 0, 2, 6, 6, 2, 2, 6, 6, 6, 1, 1, 2, 7, 7, 3, 3,\n",
       "        4, 0, 0, 0, 7, 7, 7, 7, 1, 1, 0, 6, 1, 1, 3, 1, 2, 1, 1, 6, 3, 1,\n",
       "        3, 1, 1, 2, 1, 2, 1, 2, 6, 0, 0, 0, 0, 7, 7, 3, 3, 5, 5, 6, 2, 7,\n",
       "        3, 7, 3, 6, 2, 2, 6, 7, 0, 3, 1, 7, 4, 0, 0, 0, 2, 6, 2, 1, 2, 0,\n",
       "        7, 0, 0, 7, 7, 7, 7, 4, 4, 4, 0, 6, 1, 2, 1, 2, 6, 2, 6, 1, 1, 1,\n",
       "        5, 6, 2, 2, 2, 7, 0, 0, 7, 3, 1, 1, 7, 3, 7, 3, 7, 7, 0, 0, 0, 0,\n",
       "        2, 1, 1, 6, 1, 1, 3, 1, 1, 1, 1, 0, 6, 2, 7, 3, 3, 3, 7, 0, 0, 0,\n",
       "        0, 0, 0, 0, 0, 6, 6, 6, 1, 3, 7, 5, 3, 6, 6, 2, 6, 1, 1, 1, 1, 6,\n",
       "        2, 6, 2, 1, 3, 3, 3, 6, 1, 1, 1, 6, 2, 1, 2, 5, 5, 3, 3, 6, 2, 6,\n",
       "        0, 1, 1, 2, 1, 1, 1, 1, 6, 2, 2, 2, 2, 2, 2, 2, 6, 2, 3, 6, 6, 2,\n",
       "        1, 3, 3, 3, 1, 1, 7, 7, 3, 3, 3, 3, 1, 1, 1, 3, 1, 6, 2, 2, 6, 2,\n",
       "        6, 6, 2, 6, 6, 2, 1, 3, 1, 1, 1, 6, 3, 1, 5, 6, 3, 3], dtype=int64),\n",
       " 9: array([4, 8, 8, 8, 8, 1, 1, 1, 1, 1, 8, 8, 8, 1, 0, 0, 0, 0, 6, 5, 3, 0,\n",
       "        0, 0, 0, 1, 1, 1, 1, 6, 0, 6, 0, 7, 7, 7, 7, 1, 1, 4, 4, 1, 1, 1,\n",
       "        0, 3, 7, 0, 6, 6, 2, 6, 2, 2, 2, 5, 0, 2, 5, 3, 2, 1, 1, 4, 4, 8,\n",
       "        1, 4, 4, 1, 6, 4, 4, 4, 4, 0, 3, 3, 2, 0, 0, 0, 6, 2, 1, 8, 4, 4,\n",
       "        4, 1, 4, 4, 4, 1, 1, 8, 0, 3, 0, 3, 0, 5, 4, 1, 1, 1, 0, 3, 3, 0,\n",
       "        6, 3, 0, 0, 4, 1, 2, 6, 0, 0, 8, 0, 0, 8, 0, 0, 7, 2, 0, 5, 0, 7,\n",
       "        7, 7, 4, 4, 4, 4, 4, 2, 6, 6, 2, 2, 6, 6, 6, 0, 0, 2, 7, 7, 3, 3,\n",
       "        1, 4, 4, 4, 7, 7, 7, 7, 0, 0, 8, 6, 0, 0, 3, 0, 2, 0, 0, 6, 3, 0,\n",
       "        3, 0, 0, 2, 0, 2, 0, 2, 6, 4, 4, 4, 4, 7, 7, 3, 3, 5, 5, 6, 2, 7,\n",
       "        3, 7, 3, 6, 2, 2, 6, 7, 4, 3, 0, 7, 1, 4, 4, 4, 2, 6, 2, 0, 2, 4,\n",
       "        7, 4, 4, 7, 7, 7, 7, 1, 1, 1, 4, 6, 0, 2, 0, 2, 6, 2, 6, 0, 0, 0,\n",
       "        5, 6, 2, 2, 2, 7, 4, 4, 7, 3, 0, 0, 7, 3, 7, 3, 7, 7, 4, 4, 8, 4,\n",
       "        2, 0, 0, 6, 0, 0, 3, 0, 0, 0, 0, 4, 6, 2, 7, 3, 3, 3, 7, 4, 4, 4,\n",
       "        4, 4, 4, 4, 4, 6, 6, 6, 0, 3, 7, 5, 3, 6, 6, 2, 6, 0, 0, 0, 0, 6,\n",
       "        2, 6, 2, 0, 3, 3, 3, 6, 0, 0, 0, 6, 2, 0, 2, 5, 5, 3, 3, 6, 2, 6,\n",
       "        8, 0, 0, 2, 0, 0, 0, 0, 6, 2, 2, 2, 2, 2, 2, 2, 6, 2, 3, 6, 6, 2,\n",
       "        0, 3, 3, 3, 0, 0, 7, 7, 3, 3, 3, 3, 0, 0, 0, 3, 0, 6, 2, 2, 6, 2,\n",
       "        6, 6, 2, 6, 6, 2, 0, 3, 0, 0, 0, 6, 3, 0, 5, 6, 3, 3], dtype=int64),\n",
       " 10: array([4, 8, 8, 8, 8, 0, 0, 0, 0, 0, 8, 8, 8, 0, 7, 7, 7, 7, 6, 5, 1, 7,\n",
       "        7, 9, 7, 0, 0, 0, 0, 6, 7, 6, 9, 3, 3, 3, 3, 0, 0, 4, 4, 0, 0, 0,\n",
       "        9, 1, 3, 9, 6, 6, 2, 6, 2, 2, 2, 5, 7, 2, 5, 1, 2, 0, 0, 4, 4, 8,\n",
       "        0, 4, 4, 0, 6, 4, 4, 4, 4, 9, 1, 1, 2, 7, 7, 7, 6, 2, 0, 8, 4, 4,\n",
       "        4, 0, 4, 4, 4, 0, 0, 8, 7, 1, 7, 1, 7, 5, 4, 0, 0, 0, 9, 1, 1, 7,\n",
       "        6, 1, 9, 7, 4, 0, 2, 6, 7, 9, 8, 9, 9, 8, 7, 7, 3, 2, 7, 5, 7, 3,\n",
       "        3, 3, 4, 4, 4, 4, 4, 2, 6, 6, 2, 2, 6, 6, 6, 7, 7, 2, 3, 3, 1, 1,\n",
       "        0, 4, 4, 4, 3, 3, 3, 3, 9, 9, 8, 6, 7, 7, 1, 9, 2, 7, 9, 6, 1, 7,\n",
       "        1, 9, 9, 2, 7, 2, 7, 2, 6, 4, 4, 4, 4, 3, 3, 1, 1, 5, 5, 6, 2, 3,\n",
       "        1, 3, 1, 6, 2, 2, 6, 3, 4, 1, 9, 3, 0, 4, 4, 4, 2, 6, 2, 7, 2, 4,\n",
       "        3, 4, 4, 3, 3, 3, 3, 0, 0, 0, 4, 6, 7, 2, 7, 2, 6, 2, 6, 9, 9, 9,\n",
       "        5, 6, 2, 2, 2, 3, 4, 4, 3, 1, 7, 7, 3, 1, 3, 1, 3, 3, 4, 4, 8, 4,\n",
       "        2, 7, 7, 6, 7, 7, 1, 7, 7, 9, 9, 4, 6, 2, 3, 1, 1, 1, 3, 4, 4, 4,\n",
       "        4, 4, 4, 4, 4, 6, 6, 6, 7, 1, 3, 5, 1, 6, 6, 2, 6, 7, 9, 9, 9, 6,\n",
       "        2, 6, 2, 7, 1, 1, 1, 6, 7, 7, 7, 6, 2, 9, 2, 5, 5, 1, 1, 6, 2, 6,\n",
       "        8, 9, 7, 2, 7, 7, 7, 9, 6, 2, 2, 2, 2, 2, 2, 2, 6, 2, 1, 6, 6, 2,\n",
       "        7, 1, 1, 1, 9, 9, 3, 3, 1, 1, 1, 1, 7, 7, 7, 1, 7, 6, 2, 2, 6, 2,\n",
       "        6, 6, 2, 6, 6, 2, 7, 1, 7, 9, 9, 6, 1, 7, 5, 6, 1, 1], dtype=int64),\n",
       " 11: array([ 4,  8,  8,  8,  8, 10, 10, 10, 10, 10,  8,  8,  8, 10,  7,  7,  7,\n",
       "         7,  6,  5,  0,  7,  7,  9,  7,  3,  3,  3,  3,  6,  7,  6,  9,  1,\n",
       "         1,  1,  1,  3,  3,  4,  4,  3,  3,  3,  9,  0,  1,  9,  6,  6,  2,\n",
       "         6,  2,  2,  2,  5,  7,  2,  5,  0,  2,  3,  3,  4,  4,  8, 10,  4,\n",
       "         4,  3,  6,  4,  4,  4,  4,  9,  0,  0,  2,  7,  7,  7,  6,  2,  3,\n",
       "         8,  4,  4,  4,  3,  4,  4,  4, 10, 10,  8,  7,  0,  7,  0,  7,  5,\n",
       "         4,  3,  3,  3,  9,  0,  0,  7,  6,  0,  9,  7,  4, 10,  2,  6,  7,\n",
       "         9,  8,  9,  9,  8,  7,  7,  1,  2,  7,  5,  7,  1,  1,  1,  4,  4,\n",
       "         4,  4,  4,  2,  6,  6,  2,  2,  6,  6,  6,  7,  7,  2,  1,  1,  0,\n",
       "         0,  3,  4,  4,  4,  1,  1,  1,  1,  9,  9,  8,  6,  7,  7,  0,  9,\n",
       "         2,  7,  9,  6,  0,  7,  0,  9,  9,  2,  7,  2,  7,  2,  6,  4,  4,\n",
       "         4,  4,  1,  1,  0,  0,  5,  5,  6,  2,  1,  0,  1,  0,  6,  2,  2,\n",
       "         6,  1,  4,  0,  9,  1,  3,  4,  4,  4,  2,  6,  2,  7,  2,  4,  1,\n",
       "         4,  4,  1,  1,  1,  1,  3,  3,  3,  4,  6,  7,  2,  7,  2,  6,  2,\n",
       "         6,  9,  9,  9,  5,  6,  2,  2,  2,  1,  4,  4,  1,  0,  7,  7,  1,\n",
       "         0,  1,  0,  1,  1,  4,  4,  8,  4,  2,  7,  7,  6,  7,  7,  0,  7,\n",
       "         7,  9,  9,  4,  6,  2,  1,  0,  0,  0,  1,  4,  4,  4,  4,  4,  4,\n",
       "         4,  4,  6,  6,  6,  7,  0,  1,  5,  0,  6,  6,  2,  6,  7,  9,  9,\n",
       "         9,  6,  2,  6,  2,  7,  0,  0,  0,  6,  7,  7,  7,  6,  2,  9,  2,\n",
       "         5,  5,  0,  0,  6,  2,  6,  8,  9,  7,  2,  7,  7,  7,  9,  6,  2,\n",
       "         2,  2,  2,  2,  2,  2,  6,  2,  0,  6,  6,  2,  7,  0,  0,  0,  9,\n",
       "         9,  1,  1,  0,  0,  0,  0,  7,  7,  7,  0,  7,  6,  2,  2,  6,  2,\n",
       "         6,  6,  2,  6,  6,  2,  7,  0,  7,  9,  9,  6,  0,  7,  5,  6,  0,\n",
       "         0], dtype=int64),\n",
       " 12: array([ 4,  8,  8,  8,  8, 10, 10, 10, 10, 10,  8,  8,  8, 10,  7,  7,  7,\n",
       "         7,  6,  5,  1,  7,  7,  9,  7,  3,  3,  3,  3,  6,  7,  6,  9,  0,\n",
       "         0,  0,  0,  3,  3,  4,  4,  3,  3,  3,  9,  1,  0,  9,  6,  6,  2,\n",
       "         6,  2,  2,  2,  5,  7,  2,  5,  1,  2,  3,  3,  4,  4,  8, 10,  4,\n",
       "         4,  3,  6,  4,  4,  4,  4,  9,  1,  1,  2,  7,  7,  7,  6,  2,  3,\n",
       "         8,  4,  4,  4,  3,  4,  4,  4, 10, 10,  8,  7,  1,  7,  1,  7,  5,\n",
       "         4,  3,  3,  3,  9,  1,  1,  7,  6,  1,  9,  7,  4, 10,  2,  6,  7,\n",
       "         9,  8,  9,  9,  8,  7,  7,  0,  2,  7,  5,  7,  0,  0,  0,  4,  4,\n",
       "         4,  4,  4,  2,  6,  6,  2,  2,  6,  6,  6,  7,  7,  2,  0,  0, 11,\n",
       "         1,  3,  4,  4,  4,  0,  0,  0,  0,  9,  9,  8,  6,  7,  7,  1,  9,\n",
       "         2,  7,  9,  6,  1,  7,  1,  9,  9,  2,  7,  2,  7,  2,  6,  4,  4,\n",
       "         4,  4,  0,  0,  1,  1,  5,  5,  6,  2,  0, 11,  0,  1,  6,  2,  2,\n",
       "         6,  0,  4, 11,  9,  0,  3,  4,  4,  4,  2,  6,  2,  7,  2,  4,  0,\n",
       "         4,  4,  0,  0,  0,  0,  3,  3,  3,  4,  6,  7,  2,  7,  2,  6,  2,\n",
       "         6,  9,  9,  9,  5,  6,  2,  2,  2,  0,  4,  4,  0,  1,  7,  7,  0,\n",
       "         1,  0,  1,  0,  0,  4,  4,  8,  4,  2,  7,  7,  6,  7,  7,  1,  7,\n",
       "         7,  9,  9,  4,  6,  2,  0,  1,  1,  1,  0,  4,  4,  4,  4,  4,  4,\n",
       "         4,  4,  6,  6,  6,  7, 11,  0,  5, 11,  6,  6,  2,  6,  7,  9,  9,\n",
       "         9,  6,  2,  6,  2,  7,  1,  1,  1,  6,  7,  7,  7,  6,  2,  9,  2,\n",
       "         5,  5,  1, 11,  6,  2,  6,  8,  9,  7,  2,  7,  7,  7,  9,  6,  2,\n",
       "         2,  2,  2,  2,  2,  2,  6,  2,  1,  6,  6,  2,  7,  1, 11,  1,  9,\n",
       "         9,  0,  0,  1,  1,  1,  1,  7,  7,  7,  1,  7,  6,  2,  2,  6,  2,\n",
       "         6,  6,  2,  6,  6,  2,  7,  1,  7,  9,  9,  6,  1,  7,  5,  6,  1,\n",
       "         1], dtype=int64),\n",
       " 13: array([ 4,  8,  8,  8,  8, 10, 10, 10, 10, 10,  8,  8,  8, 10,  7,  7,  7,\n",
       "         7,  6,  2,  1,  7,  7,  9,  7,  3,  3,  3,  3,  6,  7,  6,  9, 12,\n",
       "        12, 12, 12,  3,  3,  4,  4,  3,  3,  3,  9,  1, 12,  9,  6,  6,  0,\n",
       "         6,  0,  0,  0,  2,  7,  0,  2,  1,  0,  3,  3,  4,  4,  8, 10,  4,\n",
       "         4,  3,  6,  4,  4,  4,  4,  9,  1,  1,  0,  7,  7,  7,  6,  0,  3,\n",
       "         8,  4,  4,  4,  3,  4,  4,  4, 10, 10,  8,  7,  1,  7,  1,  7,  2,\n",
       "         4,  3,  3,  3,  9,  1,  1,  7,  6,  1,  9,  7,  4, 10,  0,  6,  7,\n",
       "         9,  8,  9,  9,  8,  7,  7,  5,  0,  7,  2,  7,  5,  5, 12,  4,  4,\n",
       "         4,  4,  4,  0,  6,  6,  0,  0,  6,  6,  6,  7,  7,  0, 12, 12, 11,\n",
       "         1,  3,  4,  4,  4,  5,  5,  5,  5,  9,  9,  8,  6,  7,  7,  1,  9,\n",
       "         0,  7,  9,  6,  1,  7,  1,  9,  9,  0,  7,  0,  7,  0,  6,  4,  4,\n",
       "         4,  4, 12, 12,  1,  1,  2,  2,  6,  0,  5, 11, 12,  1,  6,  0,  0,\n",
       "         6, 12,  4, 11,  9,  5,  3,  4,  4,  4,  0,  6,  0,  7,  0,  4,  5,\n",
       "         4,  4, 12,  5,  5,  5,  3,  3,  3,  4,  6,  7,  0,  7,  0,  6,  0,\n",
       "         6,  9,  9,  9,  2,  6,  0,  0,  0, 12,  4,  4,  5,  1,  7,  7,  5,\n",
       "         1, 12,  1,  5, 12,  4,  4,  8,  4,  0,  7,  7,  6,  7,  7,  1,  7,\n",
       "         7,  9,  9,  4,  6,  0, 12,  1,  1,  1,  5,  4,  4,  4,  4,  4,  4,\n",
       "         4,  4,  6,  6,  6,  7, 11,  5,  2, 11,  6,  6,  0,  6,  7,  9,  9,\n",
       "         9,  6,  0,  6,  0,  7,  1,  1,  1,  6,  7,  7,  7,  6,  0,  9,  0,\n",
       "         2,  2,  1, 11,  6,  0,  6,  8,  9,  7,  0,  7,  7,  7,  9,  6,  0,\n",
       "         0,  0,  0,  0,  0,  0,  6,  0,  1,  6,  6,  0,  7,  1, 11,  1,  9,\n",
       "         9, 12,  5,  1,  1,  1,  1,  7,  7,  7,  1,  7,  6,  0,  0,  6,  0,\n",
       "         6,  6,  0,  6,  6,  0,  7,  1,  7,  9,  9,  6,  1,  7,  2,  6,  1,\n",
       "         1], dtype=int64),\n",
       " 14: array([ 4,  8,  8,  8,  8, 10, 10, 10, 10, 10,  8,  8,  8, 10,  3,  3,  3,\n",
       "         3,  6,  2,  0,  3,  3,  9,  3,  1,  1,  1,  1,  6,  3,  6,  9, 12,\n",
       "        12, 12, 12,  1,  1,  4,  4,  1,  1,  1,  9,  0, 12,  9,  6,  6, 13,\n",
       "         6, 13,  7, 13,  2,  3,  7,  2,  0,  7,  1,  1,  4,  4,  8, 10,  4,\n",
       "         4,  1,  6,  4,  4,  4,  4,  9,  0,  0, 13,  3,  3,  3,  6,  7,  1,\n",
       "         8,  4,  4,  4,  1,  4,  4,  4, 10, 10,  8,  3,  0,  3,  0,  3,  2,\n",
       "         4,  1,  1,  1,  9,  0,  0,  3,  6,  0,  9,  3,  4, 10, 13,  6,  3,\n",
       "         9,  8,  9,  9,  8,  3,  3,  5, 13,  3,  2,  3,  5,  5, 12,  4,  4,\n",
       "         4,  4,  4,  7,  6,  6,  7, 13,  6,  6,  6,  3,  3,  7, 12, 12, 11,\n",
       "         0,  1,  4,  4,  4,  5,  5,  5,  5,  9,  9,  8,  6,  3,  3,  0,  9,\n",
       "         7,  3,  9,  6,  0,  3,  0,  9,  9,  7,  3,  7,  3, 13,  6,  4,  4,\n",
       "         4,  4, 12, 12,  0,  0,  2,  2,  6,  7,  5, 11, 12,  0,  6,  7,  7,\n",
       "         6, 12,  4, 11,  9,  5,  1,  4,  4,  4, 13,  6, 13,  3,  7,  4,  5,\n",
       "         4,  4, 12,  5,  5,  5,  1,  1,  1,  4,  6,  3, 13,  3,  7,  6,  7,\n",
       "         6,  9,  9,  9,  2,  6, 13, 13,  7, 12,  4,  4,  5,  0,  3,  3,  5,\n",
       "         0, 12,  0,  5, 12,  4,  4,  8,  4,  7,  3,  3,  6,  3,  3,  0,  3,\n",
       "         3,  9,  9,  4,  6,  7, 12,  0,  0,  0,  5,  4,  4,  4,  4,  4,  4,\n",
       "         4,  4,  6,  6,  6,  3, 11,  5,  2, 11,  6,  6, 13,  6,  3,  9,  9,\n",
       "         9,  6, 13,  6,  7,  3,  0,  0,  0,  6,  3,  3,  3,  6, 13,  9, 13,\n",
       "         2,  2,  0, 11,  6, 13,  6,  8,  9,  3,  7,  3,  3,  3,  9,  6,  7,\n",
       "         7,  7, 13, 13,  7,  7,  6,  7,  0,  6,  6,  7,  3,  0, 11,  0,  9,\n",
       "         9, 12,  5,  0,  0,  0,  0,  3,  3,  3,  0,  3,  6, 13,  7,  6,  7,\n",
       "         6,  6,  7,  6,  6,  7,  3,  0,  3,  9,  9,  6,  0,  3,  2,  6,  0,\n",
       "         0], dtype=int64),\n",
       " 15: array([ 1,  8,  8,  8,  8, 10, 10, 10, 10, 10,  8,  8,  8, 10,  3,  3,  3,\n",
       "         3,  6,  2,  9,  3,  3,  4,  3,  0,  0,  0,  0,  6,  3,  6,  4, 12,\n",
       "        12, 12, 12,  0,  0,  1,  1,  0,  0,  0,  4,  9, 12,  4,  6,  6, 13,\n",
       "         6, 13,  7, 13,  2,  3,  7,  2,  9,  7,  0,  0,  1,  1,  8, 10,  1,\n",
       "         1,  0,  6,  1,  1,  1,  1,  4,  9,  9, 13,  3,  3,  3,  6,  7,  0,\n",
       "         8,  1,  1,  1,  0,  1,  1,  1, 10, 10,  8,  3, 14,  3, 14,  3,  2,\n",
       "         1,  0,  0,  0,  4,  9,  9,  3,  6,  9,  4,  3,  1, 10, 13,  6,  3,\n",
       "         4,  8,  4,  4,  8,  3,  3,  5, 13,  3,  2,  3,  5,  5, 12,  1,  1,\n",
       "         1,  1,  1,  7,  6,  6,  7, 13,  6,  6,  6,  3,  3,  7, 12, 12, 11,\n",
       "         9,  0,  1,  1,  1,  5,  5,  5,  5,  4,  4,  8,  6,  3,  3,  9,  4,\n",
       "         7,  3,  4,  6, 14,  3, 14,  4,  4,  7,  3,  7,  3, 13,  6,  1,  1,\n",
       "         1,  1, 12, 12, 14, 14,  2,  2,  6,  7,  5, 11, 12, 14,  6,  7,  7,\n",
       "         6, 12,  1, 11,  4,  5,  0,  1,  1,  1, 13,  6, 13,  3,  7,  1,  5,\n",
       "         1,  1, 12,  5,  5,  5,  0,  0,  0,  1,  6,  3, 13,  3,  7,  6,  7,\n",
       "         6,  4,  4,  4,  2,  6, 13, 13,  7, 12,  1,  1,  5, 14,  3,  3,  5,\n",
       "        14, 12, 14,  5, 12,  1,  1,  8,  1,  7,  3,  3,  6,  3,  3, 14,  3,\n",
       "         3,  4,  4,  1,  6,  7, 12, 14, 14, 14,  5,  1,  1,  1,  1,  1,  1,\n",
       "         1,  1,  6,  6,  6,  3, 11,  5,  2, 11,  6,  6, 13,  6,  3,  4,  4,\n",
       "         4,  6, 13,  6,  7,  3, 14,  9, 14,  6,  3,  3,  3,  6, 13,  4, 13,\n",
       "         2,  2,  9, 11,  6, 13,  6,  8,  4,  3,  7,  3,  3,  3,  4,  6,  7,\n",
       "         7,  7, 13, 13,  7,  7,  6,  7,  9,  6,  6,  7,  3,  9, 11,  9,  4,\n",
       "         4, 12,  5, 14, 14,  9,  9,  3,  3,  3,  9,  3,  6, 13,  7,  6,  7,\n",
       "         6,  6,  7,  6,  6,  7,  3, 14,  3,  4,  4,  6, 14,  3,  2,  6,  9,\n",
       "         9], dtype=int64)}"
      ]
     },
     "execution_count": 19,
     "metadata": {},
     "output_type": "execute_result"
    }
   ],
   "source": [
    "agg_labels_k = dict()\n",
    "# Add your answer to Question 8 here.\n",
    "for i in range(2, 16):\n",
    "    agg_obj = AgglomerativeClustering(n_clusters=i)\n",
    "    agg_labels_k[i] = agg_obj.fit_predict(data)\n",
    "agg_labels_k"
   ]
  },
  {
   "cell_type": "markdown",
   "metadata": {},
   "source": [
    "## Q9 [5 points]\n",
    "\n",
    "Using your `agg_labels_k` dictionary, create a line plot which has $k$ on the X-axis, and the calculated Silhouette score on the Y-axis (refer to the above cell for how to calculate Silhouette score given a set of labels).\n",
    "\n",
    "The plot should show a line along with markers at each point. \n",
    "\n",
    "Be sure to label your axes and give the chart a title!"
   ]
  },
  {
   "cell_type": "code",
   "execution_count": 20,
   "metadata": {},
   "outputs": [
    {
     "data": {
      "text/plain": [
       "[<matplotlib.lines.Line2D at 0x1482766fe20>]"
      ]
     },
     "execution_count": 20,
     "metadata": {},
     "output_type": "execute_result"
    },
    {
     "data": {
      "image/png": "[encoded data removed]",
      "text/plain": [
       "<Figure size 432x288 with 1 Axes>"
      ]
     },
     "metadata": {
      "needs_background": "light"
     },
     "output_type": "display_data"
    }
   ],
   "source": [
    "# Add your answer to Question 9 here\n",
    "plt.xlabel(\"K\")\n",
    "plt.ylabel(\"SILHOUETTE SCORE\")\n",
    "plt.title(\"K VS. SILHOUETTE SCORE (Q9)\")\n",
    "x_q9 = []\n",
    "for i in range(2, 16):\n",
    "    x_q9.append(i)\n",
    "scores_q9 = []\n",
    "for i in agg_labels_k.values():\n",
    "    scores_q9.append(silhouette_score(data, i))\n",
    "\n",
    "plt.plot(x_q9, scores_q9)"
   ]
  },
  {
   "cell_type": "markdown",
   "metadata": {},
   "source": [
    "## Q10 [5 points]\n",
    "How do you think that Agglomerative Clustering performed relative to $k$-means?\n",
    "\n",
    "Since the clustering algorithms differ in how they perform clustering (centroid-based vs merging pairs of clusters), are there any situations where it might be better to use one algorithm over the other?"
   ]
  },
  {
   "cell_type": "code",
   "execution_count": 21,
   "metadata": {},
   "outputs": [],
   "source": [
    "# Add your answer to Question 10 here\n",
    "#\n",
    "# Answer:\n",
    "# The Agglomerative clustering performed relative to k-means looks very\n",
    "# similar to that when performing the k-means clustering\n",
    "# Although the graphs are similar when plotted, as k-increases, one could argue\n",
    "# that at k=4, Agglomerative clustering does better, and find reasons as to why\n",
    "# that might be, one might argue that Agglomerative methods could be better because\n",
    "# of the constant combining of similar cluisters until only one cluster is obtained\n",
    "# but, that may also be consequential because of the shape of the data, \n",
    "# which you could argue makes Agglomerative clustering worse based on this\n",
    "# dimensionality.\n"
   ]
  },
  {
   "cell_type": "markdown",
   "metadata": {},
   "source": [
    "# Part 3: Autoencoder\n",
    "\n",
    "For high-dimensional datasets, clustering based on raw data may not be optimal due to the curse of dimensionality, which shows that distance comparisons between samples become less meaningful as the dimensionality of the data increases. \n",
    "\n",
    "One solution to this is to use a dimensionality reduction technique before applying clustering. \n",
    "\n",
    "Autoenocoders are a neural network architecture which may be used to perform dimensionality reduction. These models are trained to reconstruct their inputs from a \"constrained\" view of the data. The autoencoder must learn features of the data in order to compress the data into a lower dimensional representation.\n",
    "\n",
    "![Autoencoder](imgs/Autoencoder_structure.png)\n",
    "*Image Credit: [Wikipedia](https://en.wikipedia.org/wiki/Autoencoder#/media/File:Autoencoder_structure.png)*\n",
    "\n",
    "In this section we will build a simple autoencoder model and apply it to learn a featurization of the well-known MNIST handwritten digits dataset."
   ]
  },
  {
   "cell_type": "code",
   "execution_count": 22,
   "metadata": {},
   "outputs": [],
   "source": [
    "import os\n",
    "# Required to avoid a kernel crash on MacOS\n",
    "os.environ['KMP_DUPLICATE_LIB_OK']='True'\n",
    "from tensorflow import keras"
   ]
  },
  {
   "cell_type": "markdown",
   "metadata": {},
   "source": [
    "In this cell we define the Encoder and Decoder portions of our model. Our model will have 2 convolutional layers, each followed by a max-pool layer.\n",
    "\n",
    "At the end, we flatten the output to create a feature vector of 16 dimensions per-sample (a large reduction from the original 768 dimensions per-sample)."
   ]
  },
  {
   "cell_type": "code",
   "execution_count": 23,
   "metadata": {},
   "outputs": [],
   "source": [
    "input_layer = keras.layers.Input((28,28,1))\n",
    "layer_outputs = [input_layer]\n",
    "# Build Encoder layers\n",
    "enc_conv_1 = keras.layers.Conv2D(filters=8,kernel_size=(3,3),activation=\"relu\",padding=\"same\",name=\"enc_conv_1\")(input_layer)\n",
    "enc_mp_1 = keras.layers.MaxPool2D(pool_size=2,name=\"enc_mp_1\")(enc_conv_1)\n",
    "enc_conv_2 = keras.layers.Conv2D(filters=16,kernel_size=(3,3),activation=\"relu\",padding=\"same\",name=\"enc_conv_2\")(enc_mp_1)\n",
    "enc_mp_2 = keras.layers.MaxPool2D(pool_size=2,name=\"enc_mp_2\")(enc_conv_2)\n",
    "enc_flat = keras.layers.Flatten(name=\"enc_flat\")(enc_mp_2)\n",
    "enc_dense = keras.layers.Dense(units=16,name=\"enc_dense\")(enc_flat)\n",
    "# Build Decoder layers\n",
    "decoder_input = enc_dense\n",
    "dec_dense = keras.layers.Dense(units=enc_flat.shape[-1],name=\"dec_dense\")(decoder_input)\n",
    "dec_reshape = keras.layers.Reshape(enc_mp_2.shape[1:],name=\"dec_reshape\")(dec_dense)\n",
    "dec_upsmp_2 = keras.layers.UpSampling2D(name=\"dec_upsmp_2\")(dec_reshape)\n",
    "dec_deconv_2 = keras.layers.Conv2DTranspose(filters=16,kernel_size=(3,3),activation=\"relu\",padding=\"same\",name=\"dec_deconv_2\")(dec_upsmp_2)\n",
    "dec_upsmp_1 = keras.layers.UpSampling2D(name=\"dec_upsmp_1\")(dec_deconv_2)\n",
    "dec_deconv_1 = keras.layers.Conv2DTranspose(filters=1,kernel_size=(3,3),activation=\"relu\",padding=\"same\",name=\"dec_deconv_1\")(dec_upsmp_1)"
   ]
  },
  {
   "cell_type": "markdown",
   "metadata": {},
   "source": [
    "Now that we have built all of the individual layers, we create a new `Model` and pass it the inputs `input_layer` and outputs `dec_deconv_1` for our model."
   ]
  },
  {
   "cell_type": "code",
   "execution_count": 24,
   "metadata": {},
   "outputs": [
    {
     "name": "stdout",
     "output_type": "stream",
     "text": [
      "Model: \"functional_1\"\n",
      "_________________________________________________________________\n",
      "Layer (type)                 Output Shape              Param #   \n",
      "=================================================================\n",
      "input_1 (InputLayer)         [(None, 28, 28, 1)]       0         \n",
      "_________________________________________________________________\n",
      "enc_conv_1 (Conv2D)          (None, 28, 28, 8)         80        \n",
      "_________________________________________________________________\n",
      "enc_mp_1 (MaxPooling2D)      (None, 14, 14, 8)         0         \n",
      "_________________________________________________________________\n",
      "enc_conv_2 (Conv2D)          (None, 14, 14, 16)        1168      \n",
      "_________________________________________________________________\n",
      "enc_mp_2 (MaxPooling2D)      (None, 7, 7, 16)          0         \n",
      "_________________________________________________________________\n",
      "enc_flat (Flatten)           (None, 784)               0         \n",
      "_________________________________________________________________\n",
      "enc_dense (Dense)            (None, 16)                12560     \n",
      "_________________________________________________________________\n",
      "dec_dense (Dense)            (None, 784)               13328     \n",
      "_________________________________________________________________\n",
      "dec_reshape (Reshape)        (None, 7, 7, 16)          0         \n",
      "_________________________________________________________________\n",
      "dec_upsmp_2 (UpSampling2D)   (None, 14, 14, 16)        0         \n",
      "_________________________________________________________________\n",
      "dec_deconv_2 (Conv2DTranspos (None, 14, 14, 16)        2320      \n",
      "_________________________________________________________________\n",
      "dec_upsmp_1 (UpSampling2D)   (None, 28, 28, 16)        0         \n",
      "_________________________________________________________________\n",
      "dec_deconv_1 (Conv2DTranspos (None, 28, 28, 1)         145       \n",
      "=================================================================\n",
      "Total params: 29,601\n",
      "Trainable params: 29,601\n",
      "Non-trainable params: 0\n",
      "_________________________________________________________________\n"
     ]
    }
   ],
   "source": [
    "model = keras.Model(inputs=input_layer,outputs=dec_deconv_1)\n",
    "model.summary()"
   ]
  },
  {
   "cell_type": "markdown",
   "metadata": {},
   "source": [
    "## Q11 [5 points]\n",
    "\n",
    "In a few sentences, give your interpretation of what the architecture shown above is doing. "
   ]
  },
  {
   "cell_type": "code",
   "execution_count": 25,
   "metadata": {},
   "outputs": [],
   "source": [
    "# Add your answer to Question 11 here\n",
    "#\n",
    "# Answer:\n",
    "# For my interpretation of the autoencoder architecture shown above\n",
    "# I believe, we are making a copy of the same data, however, from the original\n",
    "# data, thge autocoder is looking for unique structures in the given data, and\n",
    "# attempting to regularize the data, this is an assumption that we are using\n",
    "# regularization methods as Dense() methods are being called for 'sparse autoencoders'"
   ]
  },
  {
   "cell_type": "markdown",
   "metadata": {},
   "source": [
    "## Q12 [10 points]\n",
    "Now we need to load in the MNIST data:\n",
    "\n",
    "In the next cells:\n",
    "\n",
    "1. Load `train.fmat.txt` and `ictrain.imat.txt` to numpy arrays called `imgs` and `labels` respectively.\n",
    "2. Transpose `imgs` and `labels` so that the labels are the first dimension.\n",
    "3. Scale the values in `imgs` to fall between 0 and 1. \n",
    "4. Reshape the images from their flattened `768`-dimensional format so that each image is shape `28,28,1`. (i.e. your `imgs` array is shape `4000,28,28,1`).\n",
    "\n",
    "**HINT:** You have done all of these procedures before for Lab 8."
   ]
  },
  {
   "cell_type": "code",
   "execution_count": 26,
   "metadata": {},
   "outputs": [],
   "source": [
    "# Add your answer to Question 12 here\n",
    "# load to numpy arrays, imgs and labels\n",
    "imgs = np.loadtxt(\"Data/train.fmat.txt\")\n",
    "labels = np.loadtxt(\"Data/ictrain.imat.txt\")\n",
    "\n",
    "imgs = imgs.T\n",
    "labels = labels.T\n",
    "\n",
    "# like-lab8\n",
    "imgs = (imgs-np.min(imgs)) / (np.max(imgs) - np.min(imgs))\n",
    "# give shape\n",
    "imgs = imgs.reshape(imgs.shape[0], 28, 28, 1)\n"
   ]
  },
  {
   "cell_type": "code",
   "execution_count": 27,
   "metadata": {},
   "outputs": [],
   "source": [
    "# Test cases.\n",
    "assert(imgs.shape[0] == 4000)\n",
    "assert(labels.shape[0] == 4000)\n",
    "assert(imgs.shape == (4000,28,28,1))\n",
    "assert(imgs.max() <= 1.0)\n",
    "assert(imgs.min() >= 0.0)"
   ]
  },
  {
   "cell_type": "markdown",
   "metadata": {},
   "source": [
    "Now we can train our model by calling `model.compile` to compile the model, and `model.fit` to train the model with our data.\n",
    "\n",
    "Notice that because this is an autoencoder structure, both the inputs *and* outputs are `imgs`. There are no labels!\n",
    "\n",
    "**NOTE:** For the sake of time, we will only train for 10 epochs. (10 epochs runs in roughly 1 minute on a typical PC, but if this is taking too long for you, you may reduce the number of epochs.)\n",
    "\n",
    "Alternatively, if you have a fast computer and/or a GPU, you might be able to train for more than 10 epochs, to see if you can get better performance!"
   ]
  },
  {
   "cell_type": "code",
   "execution_count": 28,
   "metadata": {},
   "outputs": [],
   "source": [
    "model.compile(optimizer=\"adam\",loss=\"mean_squared_error\")"
   ]
  },
  {
   "cell_type": "code",
   "execution_count": 29,
   "metadata": {
    "scrolled": false
   },
   "outputs": [
    {
     "name": "stdout",
     "output_type": "stream",
     "text": [
      "Epoch 1/10\n",
      "250/250 [==============================] - 1s 5ms/step - loss: 0.0380\n",
      "Epoch 2/10\n",
      "250/250 [==============================] - 1s 5ms/step - loss: 0.0207\n",
      "Epoch 3/10\n",
      "250/250 [==============================] - 1s 5ms/step - loss: 0.0178\n",
      "Epoch 4/10\n",
      "250/250 [==============================] - 1s 5ms/step - loss: 0.0162\n",
      "Epoch 5/10\n",
      "250/250 [==============================] - 1s 5ms/step - loss: 0.0153\n",
      "Epoch 6/10\n",
      "250/250 [==============================] - 1s 5ms/step - loss: 0.0147\n",
      "Epoch 7/10\n",
      "250/250 [==============================] - 1s 5ms/step - loss: 0.0141\n",
      "Epoch 8/10\n",
      "250/250 [==============================] - 1s 5ms/step - loss: 0.0138\n",
      "Epoch 9/10\n",
      "250/250 [==============================] - 1s 6ms/step - loss: 0.0134\n",
      "Epoch 10/10\n",
      "250/250 [==============================] - 1s 5ms/step - loss: 0.0131\n"
     ]
    },
    {
     "data": {
      "text/plain": [
       "<tensorflow.python.keras.callbacks.History at 0x1482d010e20>"
      ]
     },
     "execution_count": 29,
     "metadata": {},
     "output_type": "execute_result"
    }
   ],
   "source": [
    "model.fit(imgs,imgs,epochs=10,batch_size=16)"
   ]
  },
  {
   "cell_type": "markdown",
   "metadata": {},
   "source": [
    "Now that we have trained the model, lets view our model's \"predictions\" for the input images!"
   ]
  },
  {
   "cell_type": "code",
   "execution_count": 30,
   "metadata": {},
   "outputs": [],
   "source": [
    "pred_images = model.predict(imgs)"
   ]
  },
  {
   "cell_type": "markdown",
   "metadata": {},
   "source": [
    "## Q13 [10 points]\n",
    "`imgs` contains the original data images, and `pred_images` contains our model's \"predicted\" images for each of the images in `imgs`. \n",
    "\n",
    "Choose 2 images from `imgs` and use `plt.imshow` to plot them along with their corresponding predicted images from `pred_images`.\n",
    "\n",
    "**HINT:** The indices of the first dimensions are the same, so `pred_images[i]` refers to the predicted image for image `imgs[i]`."
   ]
  },
  {
   "cell_type": "code",
   "execution_count": 31,
   "metadata": {},
   "outputs": [
    {
     "data": {
      "text/plain": [
       "Text(0.5, 1.0, 'predicted')"
      ]
     },
     "execution_count": 31,
     "metadata": {},
     "output_type": "execute_result"
    },
    {
     "data": {
      "image/png": "[encoded data removed]",
      "text/plain": [
       "<Figure size 720x720 with 6 Axes>"
      ]
     },
     "metadata": {
      "needs_background": "light"
     },
     "output_type": "display_data"
    }
   ],
   "source": [
    "# changed fig,ax = plt.subplots(ncols=2) which was original\n",
    "fig,ax = plt.subplots(ncols=6, figsize=(10,10))\n",
    "ax[0].imshow(imgs[0])\n",
    "ax[0].set_title(\"actual\")\n",
    "ax[1].imshow(pred_images[0])\n",
    "ax[1].set_title(\"predicted\")\n",
    "\n",
    "\n",
    "# images chosen below\n",
    "ax[2].imshow(imgs[1])\n",
    "ax[2].set_title(\"actual\")\n",
    "ax[3].imshow(pred_images[1])\n",
    "ax[3].set_title(\"predicted\")\n",
    "\n",
    "ax[4].imshow(imgs[2])\n",
    "ax[4].set_title(\"actual\")\n",
    "ax[5].imshow(pred_images[2])\n",
    "ax[5].set_title(\"predicted\")\n",
    "\n"
   ]
  },
  {
   "cell_type": "markdown",
   "metadata": {},
   "source": [
    "Now we can try clustering with our Autoencoder's featurized data. First we need to get the feature vectors for our data!\n",
    "\n",
    "In order to get the predictions from the \"latent space\" of our model, we need to create a new Keras model to represent just the Encoder portion of the autencoder. This model will uses `input_layer` for the input and `enc_dense` for the output, since `enc_dense` is our \"latent features\" layer. If this is confusing, refer back to the `model.summary()` call which shows the full architecture of the model.\n",
    "\n",
    "Our new model `latent_model` will help with getting the latent features. Note that we don't call `fit()` on this model. Since we are using the same layers that we used for our original `model`, the paramters for this subset of the model are already trained! We can simply call `latent_model.predict()` to get the feature vectors for our data."
   ]
  },
  {
   "cell_type": "code",
   "execution_count": 32,
   "metadata": {},
   "outputs": [
    {
     "data": {
      "text/plain": [
       "(4000, 16)"
      ]
     },
     "execution_count": 32,
     "metadata": {},
     "output_type": "execute_result"
    }
   ],
   "source": [
    "latent_model = keras.Model(inputs=input_layer,outputs=enc_dense)\n",
    "latent_features = latent_model.predict(imgs)\n",
    "latent_features.shape"
   ]
  },
  {
   "cell_type": "markdown",
   "metadata": {},
   "source": [
    "Now `latent_features` holds 16-dimensional feature vectors for each of our 4000 samples.\n",
    "We can try clustering on these latent features to see how well the dimensionality reduction has worked!\n",
    "\n",
    "Since we have ground-truth labels for this dataset, we can evaluate performance directly using these labels instead of using Silhouette score."
   ]
  },
  {
   "cell_type": "code",
   "execution_count": 33,
   "metadata": {},
   "outputs": [],
   "source": [
    "from sklearn.metrics import adjusted_rand_score"
   ]
  },
  {
   "cell_type": "markdown",
   "metadata": {},
   "source": [
    "## Q14 [5 points]\n",
    "\n",
    "Run a $k$-means clustering on `latent_features` using $k=10$, and record the labels as `img_clust_labels`.\n",
    "\n",
    "Just as before, you can use the `KMeans` object from `scikit-learn` to do this for you."
   ]
  },
  {
   "cell_type": "code",
   "execution_count": 34,
   "metadata": {},
   "outputs": [],
   "source": [
    "# k = 10, so n_clusters = 10, when creating the KMeans object\n",
    "km_obj = KMeans(n_clusters=10)\n",
    "\n",
    "# fit_predict as before on latent_features done above\n",
    "img_clust_labels = km_obj.fit_predict(latent_features)"
   ]
  },
  {
   "cell_type": "markdown",
   "metadata": {},
   "source": [
    "Now we will evaluate performance using adjusted rand index (ARI). ARI is a measure similar to accuracy, where larger values indicate better performance. An ARI of 1.0 indicates perfect (100%) accuracy, and a value close to 0 indicates 0% accuracy.\n",
    "\n",
    "You can learn more about Adjusted Rand Index here: [ARI Documentation](https://scikit-learn.org/stable/modules/generated/sklearn.metrics.adjusted_rand_score.html)"
   ]
  },
  {
   "cell_type": "code",
   "execution_count": 35,
   "metadata": {},
   "outputs": [
    {
     "name": "stdout",
     "output_type": "stream",
     "text": [
      "ARI for CAE featurized MNIST: 0.422\n"
     ]
    }
   ],
   "source": [
    "print(\"ARI for CAE featurized MNIST: %0.3f\" % adjusted_rand_score(img_clust_labels,labels))"
   ]
  },
  {
   "cell_type": "markdown",
   "metadata": {},
   "source": [
    "## Q15 [5 points]\n",
    "How well did the AE model do on this dataset?"
   ]
  },
  {
   "cell_type": "code",
   "execution_count": 36,
   "metadata": {},
   "outputs": [],
   "source": [
    "# Add your answer to Question 15 here\n",
    "\n",
    "# Answer:\n",
    "# the AE model did 0.422 on this dataset"
   ]
  },
  {
   "cell_type": "markdown",
   "metadata": {},
   "source": [
    "Done! Save and submit your notebook on Canvas."
   ]
  }
 ],
 "metadata": {
  "kernelspec": {
   "display_name": "Python 3 (ipykernel)",
   "language": "python",
   "name": "python3"
  },
  "language_info": {
   "codemirror_mode": {
    "name": "ipython",
    "version": 3
   },
   "file_extension": ".py",
   "mimetype": "text/x-python",
   "name": "python",
   "nbconvert_exporter": "python",
   "pygments_lexer": "ipython3",
   "version": "3.8.13"
  }
 },
 "nbformat": 4,
 "nbformat_minor": 4
}
